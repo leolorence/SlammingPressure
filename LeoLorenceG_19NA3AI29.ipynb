{
  "nbformat": 4,
  "nbformat_minor": 0,
  "metadata": {
    "colab": {
      "provenance": []
    },
    "kernelspec": {
      "name": "python3",
      "display_name": "Python 3"
    },
    "language_info": {
      "name": "python"
    }
  },
  "cells": [
    {
      "cell_type": "code",
      "source": [
        "import pandas as pd"
      ],
      "metadata": {
        "id": "bBU1v8-EGihj"
      },
      "execution_count": null,
      "outputs": []
    },
    {
      "cell_type": "code",
      "source": [
        "df = pd.read_csv('/content/data_btp.csv')"
      ],
      "metadata": {
        "id": "8KDjWzgNGloh"
      },
      "execution_count": null,
      "outputs": []
    },
    {
      "cell_type": "code",
      "source": [
        " df = df.sample(frac=1)"
      ],
      "metadata": {
        "id": "nYJGS466HBv_"
      },
      "execution_count": null,
      "outputs": []
    },
    {
      "cell_type": "code",
      "source": [
        "df.to_csv(\"data.csv\")"
      ],
      "metadata": {
        "id": "FZhlsKmoMTjJ"
      },
      "execution_count": null,
      "outputs": []
    },
    {
      "cell_type": "code",
      "source": [
        "df.rename(columns = {'Lambda/L':'lamdabyl'}, inplace = True)\n"
      ],
      "metadata": {
        "id": "MtDFtyKiKTCP"
      },
      "execution_count": null,
      "outputs": []
    },
    {
      "cell_type": "code",
      "source": [
        "df.rename(columns = {'H/Lamda':'hbylamda'}, inplace = True)"
      ],
      "metadata": {
        "id": "ncGGd3xwLTUa"
      },
      "execution_count": null,
      "outputs": []
    },
    {
      "cell_type": "code",
      "source": [
        "df.head()"
      ],
      "metadata": {
        "colab": {
          "base_uri": "https://localhost:8080/",
          "height": 206
        },
        "id": "i_eKDzpaKlg5",
        "outputId": "8716a68a-9638-4e65-ce35-ead82c25a174"
      },
      "execution_count": null,
      "outputs": [
        {
          "output_type": "execute_result",
          "data": {
            "text/plain": [
              "     Unnamed: 0   F_n  lamdabyl  hbylamda    Beta        P_max\n",
              "113         113  0.10       0.8  0.020000  29.095   8819.86719\n",
              "775         775  0.20       1.0  0.066667   1.404  10062.94340\n",
              "160         160  0.10       1.0  0.040000  49.051   8337.84473\n",
              "482         482  0.15       0.8  0.010000  29.095   8819.86719\n",
              "392         392  0.10       2.0  0.066667  29.095   8819.86719"
            ],
            "text/html": [
              "\n",
              "  <div id=\"df-9d0d58af-fb0d-4e42-9354-c20d0ba91d9c\">\n",
              "    <div class=\"colab-df-container\">\n",
              "      <div>\n",
              "<style scoped>\n",
              "    .dataframe tbody tr th:only-of-type {\n",
              "        vertical-align: middle;\n",
              "    }\n",
              "\n",
              "    .dataframe tbody tr th {\n",
              "        vertical-align: top;\n",
              "    }\n",
              "\n",
              "    .dataframe thead th {\n",
              "        text-align: right;\n",
              "    }\n",
              "</style>\n",
              "<table border=\"1\" class=\"dataframe\">\n",
              "  <thead>\n",
              "    <tr style=\"text-align: right;\">\n",
              "      <th></th>\n",
              "      <th>Unnamed: 0</th>\n",
              "      <th>F_n</th>\n",
              "      <th>lamdabyl</th>\n",
              "      <th>hbylamda</th>\n",
              "      <th>Beta</th>\n",
              "      <th>P_max</th>\n",
              "    </tr>\n",
              "  </thead>\n",
              "  <tbody>\n",
              "    <tr>\n",
              "      <th>113</th>\n",
              "      <td>113</td>\n",
              "      <td>0.10</td>\n",
              "      <td>0.8</td>\n",
              "      <td>0.020000</td>\n",
              "      <td>29.095</td>\n",
              "      <td>8819.86719</td>\n",
              "    </tr>\n",
              "    <tr>\n",
              "      <th>775</th>\n",
              "      <td>775</td>\n",
              "      <td>0.20</td>\n",
              "      <td>1.0</td>\n",
              "      <td>0.066667</td>\n",
              "      <td>1.404</td>\n",
              "      <td>10062.94340</td>\n",
              "    </tr>\n",
              "    <tr>\n",
              "      <th>160</th>\n",
              "      <td>160</td>\n",
              "      <td>0.10</td>\n",
              "      <td>1.0</td>\n",
              "      <td>0.040000</td>\n",
              "      <td>49.051</td>\n",
              "      <td>8337.84473</td>\n",
              "    </tr>\n",
              "    <tr>\n",
              "      <th>482</th>\n",
              "      <td>482</td>\n",
              "      <td>0.15</td>\n",
              "      <td>0.8</td>\n",
              "      <td>0.010000</td>\n",
              "      <td>29.095</td>\n",
              "      <td>8819.86719</td>\n",
              "    </tr>\n",
              "    <tr>\n",
              "      <th>392</th>\n",
              "      <td>392</td>\n",
              "      <td>0.10</td>\n",
              "      <td>2.0</td>\n",
              "      <td>0.066667</td>\n",
              "      <td>29.095</td>\n",
              "      <td>8819.86719</td>\n",
              "    </tr>\n",
              "  </tbody>\n",
              "</table>\n",
              "</div>\n",
              "      <button class=\"colab-df-convert\" onclick=\"convertToInteractive('df-9d0d58af-fb0d-4e42-9354-c20d0ba91d9c')\"\n",
              "              title=\"Convert this dataframe to an interactive table.\"\n",
              "              style=\"display:none;\">\n",
              "        \n",
              "  <svg xmlns=\"http://www.w3.org/2000/svg\" height=\"24px\"viewBox=\"0 0 24 24\"\n",
              "       width=\"24px\">\n",
              "    <path d=\"M0 0h24v24H0V0z\" fill=\"none\"/>\n",
              "    <path d=\"M18.56 5.44l.94 2.06.94-2.06 2.06-.94-2.06-.94-.94-2.06-.94 2.06-2.06.94zm-11 1L8.5 8.5l.94-2.06 2.06-.94-2.06-.94L8.5 2.5l-.94 2.06-2.06.94zm10 10l.94 2.06.94-2.06 2.06-.94-2.06-.94-.94-2.06-.94 2.06-2.06.94z\"/><path d=\"M17.41 7.96l-1.37-1.37c-.4-.4-.92-.59-1.43-.59-.52 0-1.04.2-1.43.59L10.3 9.45l-7.72 7.72c-.78.78-.78 2.05 0 2.83L4 21.41c.39.39.9.59 1.41.59.51 0 1.02-.2 1.41-.59l7.78-7.78 2.81-2.81c.8-.78.8-2.07 0-2.86zM5.41 20L4 18.59l7.72-7.72 1.47 1.35L5.41 20z\"/>\n",
              "  </svg>\n",
              "      </button>\n",
              "      \n",
              "  <style>\n",
              "    .colab-df-container {\n",
              "      display:flex;\n",
              "      flex-wrap:wrap;\n",
              "      gap: 12px;\n",
              "    }\n",
              "\n",
              "    .colab-df-convert {\n",
              "      background-color: #E8F0FE;\n",
              "      border: none;\n",
              "      border-radius: 50%;\n",
              "      cursor: pointer;\n",
              "      display: none;\n",
              "      fill: #1967D2;\n",
              "      height: 32px;\n",
              "      padding: 0 0 0 0;\n",
              "      width: 32px;\n",
              "    }\n",
              "\n",
              "    .colab-df-convert:hover {\n",
              "      background-color: #E2EBFA;\n",
              "      box-shadow: 0px 1px 2px rgba(60, 64, 67, 0.3), 0px 1px 3px 1px rgba(60, 64, 67, 0.15);\n",
              "      fill: #174EA6;\n",
              "    }\n",
              "\n",
              "    [theme=dark] .colab-df-convert {\n",
              "      background-color: #3B4455;\n",
              "      fill: #D2E3FC;\n",
              "    }\n",
              "\n",
              "    [theme=dark] .colab-df-convert:hover {\n",
              "      background-color: #434B5C;\n",
              "      box-shadow: 0px 1px 3px 1px rgba(0, 0, 0, 0.15);\n",
              "      filter: drop-shadow(0px 1px 2px rgba(0, 0, 0, 0.3));\n",
              "      fill: #FFFFFF;\n",
              "    }\n",
              "  </style>\n",
              "\n",
              "      <script>\n",
              "        const buttonEl =\n",
              "          document.querySelector('#df-9d0d58af-fb0d-4e42-9354-c20d0ba91d9c button.colab-df-convert');\n",
              "        buttonEl.style.display =\n",
              "          google.colab.kernel.accessAllowed ? 'block' : 'none';\n",
              "\n",
              "        async function convertToInteractive(key) {\n",
              "          const element = document.querySelector('#df-9d0d58af-fb0d-4e42-9354-c20d0ba91d9c');\n",
              "          const dataTable =\n",
              "            await google.colab.kernel.invokeFunction('convertToInteractive',\n",
              "                                                     [key], {});\n",
              "          if (!dataTable) return;\n",
              "\n",
              "          const docLinkHtml = 'Like what you see? Visit the ' +\n",
              "            '<a target=\"_blank\" href=https://colab.research.google.com/notebooks/data_table.ipynb>data table notebook</a>'\n",
              "            + ' to learn more about interactive tables.';\n",
              "          element.innerHTML = '';\n",
              "          dataTable['output_type'] = 'display_data';\n",
              "          await google.colab.output.renderOutput(dataTable, element);\n",
              "          const docLink = document.createElement('div');\n",
              "          docLink.innerHTML = docLinkHtml;\n",
              "          element.appendChild(docLink);\n",
              "        }\n",
              "      </script>\n",
              "    </div>\n",
              "  </div>\n",
              "  "
            ]
          },
          "metadata": {},
          "execution_count": 270
        }
      ]
    },
    {
      "cell_type": "code",
      "source": [
        "from sklearn.datasets import load_diabetes\n",
        "from sklearn.linear_model import RidgeCV"
      ],
      "metadata": {
        "id": "GDYA94S2dCNQ"
      },
      "execution_count": null,
      "outputs": []
    },
    {
      "cell_type": "code",
      "source": [
        "df = pd.DataFrame({'lamdabyl': df[\"lamdabyl\"],\n",
        "                   'Fn': df[\"F_n\"],\n",
        "                   'hbylamda':df[\"hbylamda\"],\n",
        "                   'beta':df[\"Beta\"],\n",
        "                   'max pressure':df[\"P_max\"]\n",
        "                   })"
      ],
      "metadata": {
        "id": "BjSb9F79JF4N"
      },
      "execution_count": null,
      "outputs": []
    },
    {
      "cell_type": "code",
      "source": [
        "df"
      ],
      "metadata": {
        "colab": {
          "base_uri": "https://localhost:8080/",
          "height": 423
        },
        "id": "h-8DIZjEJTji",
        "outputId": "8f5123a4-b55c-46bf-af5b-e4766552275a"
      },
      "execution_count": null,
      "outputs": [
        {
          "output_type": "execute_result",
          "data": {
            "text/plain": [
              "     lamdabyl    Fn  hbylamda    beta  max pressure\n",
              "113      0.80  0.10  0.020000  29.095    8819.86719\n",
              "775      1.00  0.20  0.066667   1.404   10062.94340\n",
              "160      1.00  0.10  0.040000  49.051    8337.84473\n",
              "482      0.80  0.15  0.010000  29.095    8819.86719\n",
              "392      2.00  0.10  0.066667  29.095    8819.86719\n",
              "..        ...   ...       ...     ...           ...\n",
              "496      0.80  0.15  0.033333   1.404   10062.94340\n",
              "545      1.00  0.15  0.013333  29.095    8819.86719\n",
              "664      2.00  0.15  0.010000  49.051    8337.84473\n",
              "757      0.80  0.20  0.013333   1.404   10062.94340\n",
              "884      1.75  0.20  0.066667   4.564    9738.42969\n",
              "\n",
              "[1098 rows x 5 columns]"
            ],
            "text/html": [
              "\n",
              "  <div id=\"df-5059719e-53ad-4076-a56b-b11f1f0bf14d\">\n",
              "    <div class=\"colab-df-container\">\n",
              "      <div>\n",
              "<style scoped>\n",
              "    .dataframe tbody tr th:only-of-type {\n",
              "        vertical-align: middle;\n",
              "    }\n",
              "\n",
              "    .dataframe tbody tr th {\n",
              "        vertical-align: top;\n",
              "    }\n",
              "\n",
              "    .dataframe thead th {\n",
              "        text-align: right;\n",
              "    }\n",
              "</style>\n",
              "<table border=\"1\" class=\"dataframe\">\n",
              "  <thead>\n",
              "    <tr style=\"text-align: right;\">\n",
              "      <th></th>\n",
              "      <th>lamdabyl</th>\n",
              "      <th>Fn</th>\n",
              "      <th>hbylamda</th>\n",
              "      <th>beta</th>\n",
              "      <th>max pressure</th>\n",
              "    </tr>\n",
              "  </thead>\n",
              "  <tbody>\n",
              "    <tr>\n",
              "      <th>113</th>\n",
              "      <td>0.80</td>\n",
              "      <td>0.10</td>\n",
              "      <td>0.020000</td>\n",
              "      <td>29.095</td>\n",
              "      <td>8819.86719</td>\n",
              "    </tr>\n",
              "    <tr>\n",
              "      <th>775</th>\n",
              "      <td>1.00</td>\n",
              "      <td>0.20</td>\n",
              "      <td>0.066667</td>\n",
              "      <td>1.404</td>\n",
              "      <td>10062.94340</td>\n",
              "    </tr>\n",
              "    <tr>\n",
              "      <th>160</th>\n",
              "      <td>1.00</td>\n",
              "      <td>0.10</td>\n",
              "      <td>0.040000</td>\n",
              "      <td>49.051</td>\n",
              "      <td>8337.84473</td>\n",
              "    </tr>\n",
              "    <tr>\n",
              "      <th>482</th>\n",
              "      <td>0.80</td>\n",
              "      <td>0.15</td>\n",
              "      <td>0.010000</td>\n",
              "      <td>29.095</td>\n",
              "      <td>8819.86719</td>\n",
              "    </tr>\n",
              "    <tr>\n",
              "      <th>392</th>\n",
              "      <td>2.00</td>\n",
              "      <td>0.10</td>\n",
              "      <td>0.066667</td>\n",
              "      <td>29.095</td>\n",
              "      <td>8819.86719</td>\n",
              "    </tr>\n",
              "    <tr>\n",
              "      <th>...</th>\n",
              "      <td>...</td>\n",
              "      <td>...</td>\n",
              "      <td>...</td>\n",
              "      <td>...</td>\n",
              "      <td>...</td>\n",
              "    </tr>\n",
              "    <tr>\n",
              "      <th>496</th>\n",
              "      <td>0.80</td>\n",
              "      <td>0.15</td>\n",
              "      <td>0.033333</td>\n",
              "      <td>1.404</td>\n",
              "      <td>10062.94340</td>\n",
              "    </tr>\n",
              "    <tr>\n",
              "      <th>545</th>\n",
              "      <td>1.00</td>\n",
              "      <td>0.15</td>\n",
              "      <td>0.013333</td>\n",
              "      <td>29.095</td>\n",
              "      <td>8819.86719</td>\n",
              "    </tr>\n",
              "    <tr>\n",
              "      <th>664</th>\n",
              "      <td>2.00</td>\n",
              "      <td>0.15</td>\n",
              "      <td>0.010000</td>\n",
              "      <td>49.051</td>\n",
              "      <td>8337.84473</td>\n",
              "    </tr>\n",
              "    <tr>\n",
              "      <th>757</th>\n",
              "      <td>0.80</td>\n",
              "      <td>0.20</td>\n",
              "      <td>0.013333</td>\n",
              "      <td>1.404</td>\n",
              "      <td>10062.94340</td>\n",
              "    </tr>\n",
              "    <tr>\n",
              "      <th>884</th>\n",
              "      <td>1.75</td>\n",
              "      <td>0.20</td>\n",
              "      <td>0.066667</td>\n",
              "      <td>4.564</td>\n",
              "      <td>9738.42969</td>\n",
              "    </tr>\n",
              "  </tbody>\n",
              "</table>\n",
              "<p>1098 rows × 5 columns</p>\n",
              "</div>\n",
              "      <button class=\"colab-df-convert\" onclick=\"convertToInteractive('df-5059719e-53ad-4076-a56b-b11f1f0bf14d')\"\n",
              "              title=\"Convert this dataframe to an interactive table.\"\n",
              "              style=\"display:none;\">\n",
              "        \n",
              "  <svg xmlns=\"http://www.w3.org/2000/svg\" height=\"24px\"viewBox=\"0 0 24 24\"\n",
              "       width=\"24px\">\n",
              "    <path d=\"M0 0h24v24H0V0z\" fill=\"none\"/>\n",
              "    <path d=\"M18.56 5.44l.94 2.06.94-2.06 2.06-.94-2.06-.94-.94-2.06-.94 2.06-2.06.94zm-11 1L8.5 8.5l.94-2.06 2.06-.94-2.06-.94L8.5 2.5l-.94 2.06-2.06.94zm10 10l.94 2.06.94-2.06 2.06-.94-2.06-.94-.94-2.06-.94 2.06-2.06.94z\"/><path d=\"M17.41 7.96l-1.37-1.37c-.4-.4-.92-.59-1.43-.59-.52 0-1.04.2-1.43.59L10.3 9.45l-7.72 7.72c-.78.78-.78 2.05 0 2.83L4 21.41c.39.39.9.59 1.41.59.51 0 1.02-.2 1.41-.59l7.78-7.78 2.81-2.81c.8-.78.8-2.07 0-2.86zM5.41 20L4 18.59l7.72-7.72 1.47 1.35L5.41 20z\"/>\n",
              "  </svg>\n",
              "      </button>\n",
              "      \n",
              "  <style>\n",
              "    .colab-df-container {\n",
              "      display:flex;\n",
              "      flex-wrap:wrap;\n",
              "      gap: 12px;\n",
              "    }\n",
              "\n",
              "    .colab-df-convert {\n",
              "      background-color: #E8F0FE;\n",
              "      border: none;\n",
              "      border-radius: 50%;\n",
              "      cursor: pointer;\n",
              "      display: none;\n",
              "      fill: #1967D2;\n",
              "      height: 32px;\n",
              "      padding: 0 0 0 0;\n",
              "      width: 32px;\n",
              "    }\n",
              "\n",
              "    .colab-df-convert:hover {\n",
              "      background-color: #E2EBFA;\n",
              "      box-shadow: 0px 1px 2px rgba(60, 64, 67, 0.3), 0px 1px 3px 1px rgba(60, 64, 67, 0.15);\n",
              "      fill: #174EA6;\n",
              "    }\n",
              "\n",
              "    [theme=dark] .colab-df-convert {\n",
              "      background-color: #3B4455;\n",
              "      fill: #D2E3FC;\n",
              "    }\n",
              "\n",
              "    [theme=dark] .colab-df-convert:hover {\n",
              "      background-color: #434B5C;\n",
              "      box-shadow: 0px 1px 3px 1px rgba(0, 0, 0, 0.15);\n",
              "      filter: drop-shadow(0px 1px 2px rgba(0, 0, 0, 0.3));\n",
              "      fill: #FFFFFF;\n",
              "    }\n",
              "  </style>\n",
              "\n",
              "      <script>\n",
              "        const buttonEl =\n",
              "          document.querySelector('#df-5059719e-53ad-4076-a56b-b11f1f0bf14d button.colab-df-convert');\n",
              "        buttonEl.style.display =\n",
              "          google.colab.kernel.accessAllowed ? 'block' : 'none';\n",
              "\n",
              "        async function convertToInteractive(key) {\n",
              "          const element = document.querySelector('#df-5059719e-53ad-4076-a56b-b11f1f0bf14d');\n",
              "          const dataTable =\n",
              "            await google.colab.kernel.invokeFunction('convertToInteractive',\n",
              "                                                     [key], {});\n",
              "          if (!dataTable) return;\n",
              "\n",
              "          const docLinkHtml = 'Like what you see? Visit the ' +\n",
              "            '<a target=\"_blank\" href=https://colab.research.google.com/notebooks/data_table.ipynb>data table notebook</a>'\n",
              "            + ' to learn more about interactive tables.';\n",
              "          element.innerHTML = '';\n",
              "          dataTable['output_type'] = 'display_data';\n",
              "          await google.colab.output.renderOutput(dataTable, element);\n",
              "          const docLink = document.createElement('div');\n",
              "          docLink.innerHTML = docLinkHtml;\n",
              "          element.appendChild(docLink);\n",
              "        }\n",
              "      </script>\n",
              "    </div>\n",
              "  </div>\n",
              "  "
            ]
          },
          "metadata": {},
          "execution_count": 273
        }
      ]
    },
    {
      "cell_type": "code",
      "source": [
        "for i in range(len(df)):\n",
        "  df[\"max pressure\"].iloc[i]= df[\"max pressure\"].iloc[i]/(1025*9.81*0.3354)"
      ],
      "metadata": {
        "id": "80iif5oVLqE-"
      },
      "execution_count": null,
      "outputs": []
    },
    {
      "cell_type": "code",
      "source": [
        "max_pressure= df[\"max pressure\"]"
      ],
      "metadata": {
        "id": "lw__BCoaMCl2"
      },
      "execution_count": null,
      "outputs": []
    },
    {
      "cell_type": "code",
      "source": [
        "df"
      ],
      "metadata": {
        "colab": {
          "base_uri": "https://localhost:8080/",
          "height": 423
        },
        "id": "ZGzmQjbMBGEi",
        "outputId": "f506176d-3f38-474f-98a8-7efb355b0b57"
      },
      "execution_count": null,
      "outputs": [
        {
          "output_type": "execute_result",
          "data": {
            "text/plain": [
              "     lamdabyl    Fn  hbylamda    beta  max pressure\n",
              "113      0.80  0.10  0.020000  29.095      2.615207\n",
              "775      1.00  0.20  0.066667   1.404      2.983796\n",
              "160      1.00  0.10  0.040000  49.051      2.472281\n",
              "482      0.80  0.15  0.010000  29.095      2.615207\n",
              "392      2.00  0.10  0.066667  29.095      2.615207\n",
              "..        ...   ...       ...     ...           ...\n",
              "496      0.80  0.15  0.033333   1.404      2.983796\n",
              "545      1.00  0.15  0.013333  29.095      2.615207\n",
              "664      2.00  0.15  0.010000  49.051      2.472281\n",
              "757      0.80  0.20  0.013333   1.404      2.983796\n",
              "884      1.75  0.20  0.066667   4.564      2.887573\n",
              "\n",
              "[1098 rows x 5 columns]"
            ],
            "text/html": [
              "\n",
              "  <div id=\"df-d10b7141-d468-44a3-bf56-3ee7cc5fdf13\">\n",
              "    <div class=\"colab-df-container\">\n",
              "      <div>\n",
              "<style scoped>\n",
              "    .dataframe tbody tr th:only-of-type {\n",
              "        vertical-align: middle;\n",
              "    }\n",
              "\n",
              "    .dataframe tbody tr th {\n",
              "        vertical-align: top;\n",
              "    }\n",
              "\n",
              "    .dataframe thead th {\n",
              "        text-align: right;\n",
              "    }\n",
              "</style>\n",
              "<table border=\"1\" class=\"dataframe\">\n",
              "  <thead>\n",
              "    <tr style=\"text-align: right;\">\n",
              "      <th></th>\n",
              "      <th>lamdabyl</th>\n",
              "      <th>Fn</th>\n",
              "      <th>hbylamda</th>\n",
              "      <th>beta</th>\n",
              "      <th>max pressure</th>\n",
              "    </tr>\n",
              "  </thead>\n",
              "  <tbody>\n",
              "    <tr>\n",
              "      <th>113</th>\n",
              "      <td>0.80</td>\n",
              "      <td>0.10</td>\n",
              "      <td>0.020000</td>\n",
              "      <td>29.095</td>\n",
              "      <td>2.615207</td>\n",
              "    </tr>\n",
              "    <tr>\n",
              "      <th>775</th>\n",
              "      <td>1.00</td>\n",
              "      <td>0.20</td>\n",
              "      <td>0.066667</td>\n",
              "      <td>1.404</td>\n",
              "      <td>2.983796</td>\n",
              "    </tr>\n",
              "    <tr>\n",
              "      <th>160</th>\n",
              "      <td>1.00</td>\n",
              "      <td>0.10</td>\n",
              "      <td>0.040000</td>\n",
              "      <td>49.051</td>\n",
              "      <td>2.472281</td>\n",
              "    </tr>\n",
              "    <tr>\n",
              "      <th>482</th>\n",
              "      <td>0.80</td>\n",
              "      <td>0.15</td>\n",
              "      <td>0.010000</td>\n",
              "      <td>29.095</td>\n",
              "      <td>2.615207</td>\n",
              "    </tr>\n",
              "    <tr>\n",
              "      <th>392</th>\n",
              "      <td>2.00</td>\n",
              "      <td>0.10</td>\n",
              "      <td>0.066667</td>\n",
              "      <td>29.095</td>\n",
              "      <td>2.615207</td>\n",
              "    </tr>\n",
              "    <tr>\n",
              "      <th>...</th>\n",
              "      <td>...</td>\n",
              "      <td>...</td>\n",
              "      <td>...</td>\n",
              "      <td>...</td>\n",
              "      <td>...</td>\n",
              "    </tr>\n",
              "    <tr>\n",
              "      <th>496</th>\n",
              "      <td>0.80</td>\n",
              "      <td>0.15</td>\n",
              "      <td>0.033333</td>\n",
              "      <td>1.404</td>\n",
              "      <td>2.983796</td>\n",
              "    </tr>\n",
              "    <tr>\n",
              "      <th>545</th>\n",
              "      <td>1.00</td>\n",
              "      <td>0.15</td>\n",
              "      <td>0.013333</td>\n",
              "      <td>29.095</td>\n",
              "      <td>2.615207</td>\n",
              "    </tr>\n",
              "    <tr>\n",
              "      <th>664</th>\n",
              "      <td>2.00</td>\n",
              "      <td>0.15</td>\n",
              "      <td>0.010000</td>\n",
              "      <td>49.051</td>\n",
              "      <td>2.472281</td>\n",
              "    </tr>\n",
              "    <tr>\n",
              "      <th>757</th>\n",
              "      <td>0.80</td>\n",
              "      <td>0.20</td>\n",
              "      <td>0.013333</td>\n",
              "      <td>1.404</td>\n",
              "      <td>2.983796</td>\n",
              "    </tr>\n",
              "    <tr>\n",
              "      <th>884</th>\n",
              "      <td>1.75</td>\n",
              "      <td>0.20</td>\n",
              "      <td>0.066667</td>\n",
              "      <td>4.564</td>\n",
              "      <td>2.887573</td>\n",
              "    </tr>\n",
              "  </tbody>\n",
              "</table>\n",
              "<p>1098 rows × 5 columns</p>\n",
              "</div>\n",
              "      <button class=\"colab-df-convert\" onclick=\"convertToInteractive('df-d10b7141-d468-44a3-bf56-3ee7cc5fdf13')\"\n",
              "              title=\"Convert this dataframe to an interactive table.\"\n",
              "              style=\"display:none;\">\n",
              "        \n",
              "  <svg xmlns=\"http://www.w3.org/2000/svg\" height=\"24px\"viewBox=\"0 0 24 24\"\n",
              "       width=\"24px\">\n",
              "    <path d=\"M0 0h24v24H0V0z\" fill=\"none\"/>\n",
              "    <path d=\"M18.56 5.44l.94 2.06.94-2.06 2.06-.94-2.06-.94-.94-2.06-.94 2.06-2.06.94zm-11 1L8.5 8.5l.94-2.06 2.06-.94-2.06-.94L8.5 2.5l-.94 2.06-2.06.94zm10 10l.94 2.06.94-2.06 2.06-.94-2.06-.94-.94-2.06-.94 2.06-2.06.94z\"/><path d=\"M17.41 7.96l-1.37-1.37c-.4-.4-.92-.59-1.43-.59-.52 0-1.04.2-1.43.59L10.3 9.45l-7.72 7.72c-.78.78-.78 2.05 0 2.83L4 21.41c.39.39.9.59 1.41.59.51 0 1.02-.2 1.41-.59l7.78-7.78 2.81-2.81c.8-.78.8-2.07 0-2.86zM5.41 20L4 18.59l7.72-7.72 1.47 1.35L5.41 20z\"/>\n",
              "  </svg>\n",
              "      </button>\n",
              "      \n",
              "  <style>\n",
              "    .colab-df-container {\n",
              "      display:flex;\n",
              "      flex-wrap:wrap;\n",
              "      gap: 12px;\n",
              "    }\n",
              "\n",
              "    .colab-df-convert {\n",
              "      background-color: #E8F0FE;\n",
              "      border: none;\n",
              "      border-radius: 50%;\n",
              "      cursor: pointer;\n",
              "      display: none;\n",
              "      fill: #1967D2;\n",
              "      height: 32px;\n",
              "      padding: 0 0 0 0;\n",
              "      width: 32px;\n",
              "    }\n",
              "\n",
              "    .colab-df-convert:hover {\n",
              "      background-color: #E2EBFA;\n",
              "      box-shadow: 0px 1px 2px rgba(60, 64, 67, 0.3), 0px 1px 3px 1px rgba(60, 64, 67, 0.15);\n",
              "      fill: #174EA6;\n",
              "    }\n",
              "\n",
              "    [theme=dark] .colab-df-convert {\n",
              "      background-color: #3B4455;\n",
              "      fill: #D2E3FC;\n",
              "    }\n",
              "\n",
              "    [theme=dark] .colab-df-convert:hover {\n",
              "      background-color: #434B5C;\n",
              "      box-shadow: 0px 1px 3px 1px rgba(0, 0, 0, 0.15);\n",
              "      filter: drop-shadow(0px 1px 2px rgba(0, 0, 0, 0.3));\n",
              "      fill: #FFFFFF;\n",
              "    }\n",
              "  </style>\n",
              "\n",
              "      <script>\n",
              "        const buttonEl =\n",
              "          document.querySelector('#df-d10b7141-d468-44a3-bf56-3ee7cc5fdf13 button.colab-df-convert');\n",
              "        buttonEl.style.display =\n",
              "          google.colab.kernel.accessAllowed ? 'block' : 'none';\n",
              "\n",
              "        async function convertToInteractive(key) {\n",
              "          const element = document.querySelector('#df-d10b7141-d468-44a3-bf56-3ee7cc5fdf13');\n",
              "          const dataTable =\n",
              "            await google.colab.kernel.invokeFunction('convertToInteractive',\n",
              "                                                     [key], {});\n",
              "          if (!dataTable) return;\n",
              "\n",
              "          const docLinkHtml = 'Like what you see? Visit the ' +\n",
              "            '<a target=\"_blank\" href=https://colab.research.google.com/notebooks/data_table.ipynb>data table notebook</a>'\n",
              "            + ' to learn more about interactive tables.';\n",
              "          element.innerHTML = '';\n",
              "          dataTable['output_type'] = 'display_data';\n",
              "          await google.colab.output.renderOutput(dataTable, element);\n",
              "          const docLink = document.createElement('div');\n",
              "          docLink.innerHTML = docLinkHtml;\n",
              "          element.appendChild(docLink);\n",
              "        }\n",
              "      </script>\n",
              "    </div>\n",
              "  </div>\n",
              "  "
            ]
          },
          "metadata": {},
          "execution_count": 276
        }
      ]
    },
    {
      "cell_type": "markdown",
      "source": [
        "**ATTRIBUTE ANALYSIS**"
      ],
      "metadata": {
        "id": "69t8M45RG3Oe"
      }
    },
    {
      "cell_type": "code",
      "source": [
        "from scipy import stats\n",
        "a=stats.ttest_ind(df['beta'],df['max pressure'])[1]\n",
        "b=stats.ttest_ind(df['hbylamda'],df['max pressure'])[1]\n",
        "c=stats.ttest_ind(df['Fn'],df['max pressure'])[1]\n",
        "d=stats.ttest_ind(df['lamdabyl'],df['max pressure'])[1]"
      ],
      "metadata": {
        "id": "uhmG6Mi7BJDN"
      },
      "execution_count": null,
      "outputs": []
    },
    {
      "cell_type": "code",
      "source": [
        "dict_a = {\n",
        "   'beta_max pressure,':[a], \n",
        "   'hbylamda_max pressure': [b], \n",
        "   'Fn_max pressure':[c],\n",
        "   'lamdabyl_max pressure':[d]\n",
        "}"
      ],
      "metadata": {
        "id": "y14xqP0jDSC2"
      },
      "execution_count": null,
      "outputs": []
    },
    {
      "cell_type": "code",
      "source": [
        "df_pvalue = pd.DataFrame.from_dict(dict_a, orient ='index')\n",
        "df_pvalue.columns = ['P value']\n",
        "df_pvalue"
      ],
      "metadata": {
        "colab": {
          "base_uri": "https://localhost:8080/",
          "height": 175
        },
        "id": "Z6EaPCOyEyXN",
        "outputId": "4cc98cbd-1f6f-4369-8cba-d84539fa50e0"
      },
      "execution_count": null,
      "outputs": [
        {
          "output_type": "execute_result",
          "data": {
            "text/plain": [
              "                             P value\n",
              "beta_max pressure,     9.867912e-205\n",
              "hbylamda_max pressure   0.000000e+00\n",
              "Fn_max pressure         0.000000e+00\n",
              "lamdabyl_max pressure   0.000000e+00"
            ],
            "text/html": [
              "\n",
              "  <div id=\"df-5680a386-a9f5-4248-a2f5-98d368a61750\">\n",
              "    <div class=\"colab-df-container\">\n",
              "      <div>\n",
              "<style scoped>\n",
              "    .dataframe tbody tr th:only-of-type {\n",
              "        vertical-align: middle;\n",
              "    }\n",
              "\n",
              "    .dataframe tbody tr th {\n",
              "        vertical-align: top;\n",
              "    }\n",
              "\n",
              "    .dataframe thead th {\n",
              "        text-align: right;\n",
              "    }\n",
              "</style>\n",
              "<table border=\"1\" class=\"dataframe\">\n",
              "  <thead>\n",
              "    <tr style=\"text-align: right;\">\n",
              "      <th></th>\n",
              "      <th>P value</th>\n",
              "    </tr>\n",
              "  </thead>\n",
              "  <tbody>\n",
              "    <tr>\n",
              "      <th>beta_max pressure,</th>\n",
              "      <td>9.867912e-205</td>\n",
              "    </tr>\n",
              "    <tr>\n",
              "      <th>hbylamda_max pressure</th>\n",
              "      <td>0.000000e+00</td>\n",
              "    </tr>\n",
              "    <tr>\n",
              "      <th>Fn_max pressure</th>\n",
              "      <td>0.000000e+00</td>\n",
              "    </tr>\n",
              "    <tr>\n",
              "      <th>lamdabyl_max pressure</th>\n",
              "      <td>0.000000e+00</td>\n",
              "    </tr>\n",
              "  </tbody>\n",
              "</table>\n",
              "</div>\n",
              "      <button class=\"colab-df-convert\" onclick=\"convertToInteractive('df-5680a386-a9f5-4248-a2f5-98d368a61750')\"\n",
              "              title=\"Convert this dataframe to an interactive table.\"\n",
              "              style=\"display:none;\">\n",
              "        \n",
              "  <svg xmlns=\"http://www.w3.org/2000/svg\" height=\"24px\"viewBox=\"0 0 24 24\"\n",
              "       width=\"24px\">\n",
              "    <path d=\"M0 0h24v24H0V0z\" fill=\"none\"/>\n",
              "    <path d=\"M18.56 5.44l.94 2.06.94-2.06 2.06-.94-2.06-.94-.94-2.06-.94 2.06-2.06.94zm-11 1L8.5 8.5l.94-2.06 2.06-.94-2.06-.94L8.5 2.5l-.94 2.06-2.06.94zm10 10l.94 2.06.94-2.06 2.06-.94-2.06-.94-.94-2.06-.94 2.06-2.06.94z\"/><path d=\"M17.41 7.96l-1.37-1.37c-.4-.4-.92-.59-1.43-.59-.52 0-1.04.2-1.43.59L10.3 9.45l-7.72 7.72c-.78.78-.78 2.05 0 2.83L4 21.41c.39.39.9.59 1.41.59.51 0 1.02-.2 1.41-.59l7.78-7.78 2.81-2.81c.8-.78.8-2.07 0-2.86zM5.41 20L4 18.59l7.72-7.72 1.47 1.35L5.41 20z\"/>\n",
              "  </svg>\n",
              "      </button>\n",
              "      \n",
              "  <style>\n",
              "    .colab-df-container {\n",
              "      display:flex;\n",
              "      flex-wrap:wrap;\n",
              "      gap: 12px;\n",
              "    }\n",
              "\n",
              "    .colab-df-convert {\n",
              "      background-color: #E8F0FE;\n",
              "      border: none;\n",
              "      border-radius: 50%;\n",
              "      cursor: pointer;\n",
              "      display: none;\n",
              "      fill: #1967D2;\n",
              "      height: 32px;\n",
              "      padding: 0 0 0 0;\n",
              "      width: 32px;\n",
              "    }\n",
              "\n",
              "    .colab-df-convert:hover {\n",
              "      background-color: #E2EBFA;\n",
              "      box-shadow: 0px 1px 2px rgba(60, 64, 67, 0.3), 0px 1px 3px 1px rgba(60, 64, 67, 0.15);\n",
              "      fill: #174EA6;\n",
              "    }\n",
              "\n",
              "    [theme=dark] .colab-df-convert {\n",
              "      background-color: #3B4455;\n",
              "      fill: #D2E3FC;\n",
              "    }\n",
              "\n",
              "    [theme=dark] .colab-df-convert:hover {\n",
              "      background-color: #434B5C;\n",
              "      box-shadow: 0px 1px 3px 1px rgba(0, 0, 0, 0.15);\n",
              "      filter: drop-shadow(0px 1px 2px rgba(0, 0, 0, 0.3));\n",
              "      fill: #FFFFFF;\n",
              "    }\n",
              "  </style>\n",
              "\n",
              "      <script>\n",
              "        const buttonEl =\n",
              "          document.querySelector('#df-5680a386-a9f5-4248-a2f5-98d368a61750 button.colab-df-convert');\n",
              "        buttonEl.style.display =\n",
              "          google.colab.kernel.accessAllowed ? 'block' : 'none';\n",
              "\n",
              "        async function convertToInteractive(key) {\n",
              "          const element = document.querySelector('#df-5680a386-a9f5-4248-a2f5-98d368a61750');\n",
              "          const dataTable =\n",
              "            await google.colab.kernel.invokeFunction('convertToInteractive',\n",
              "                                                     [key], {});\n",
              "          if (!dataTable) return;\n",
              "\n",
              "          const docLinkHtml = 'Like what you see? Visit the ' +\n",
              "            '<a target=\"_blank\" href=https://colab.research.google.com/notebooks/data_table.ipynb>data table notebook</a>'\n",
              "            + ' to learn more about interactive tables.';\n",
              "          element.innerHTML = '';\n",
              "          dataTable['output_type'] = 'display_data';\n",
              "          await google.colab.output.renderOutput(dataTable, element);\n",
              "          const docLink = document.createElement('div');\n",
              "          docLink.innerHTML = docLinkHtml;\n",
              "          element.appendChild(docLink);\n",
              "        }\n",
              "      </script>\n",
              "    </div>\n",
              "  </div>\n",
              "  "
            ]
          },
          "metadata": {},
          "execution_count": 377
        }
      ]
    },
    {
      "cell_type": "code",
      "source": [
        "e=df['max pressure'].corr(df['beta'])\n",
        "f=df['max pressure'].corr(df['hbylamda'])\n",
        "g=df['max pressure'].corr(df['Fn'])\n",
        "h=df['max pressure'].corr(df['lamdabyl'])"
      ],
      "metadata": {
        "id": "zzJ1gOAbFxqK"
      },
      "execution_count": null,
      "outputs": []
    },
    {
      "cell_type": "code",
      "source": [
        "dict_b = {\n",
        "   'beta_max pressure,':[e], \n",
        "   'hbylamda_max pressure': [f], \n",
        "   'Fn_max pressure':[g],\n",
        "   'lamdabyl_max pressure':[h]\n",
        "}"
      ],
      "metadata": {
        "id": "8e9ctz8zGdB4"
      },
      "execution_count": null,
      "outputs": []
    },
    {
      "cell_type": "code",
      "source": [
        "df_corre = pd.DataFrame.from_dict(dict_b, orient ='index')\n",
        "# df.corr(method ='pearson')\n",
        "df_corre.columns = ['Pearson Correlation']\n",
        "df_corre"
      ],
      "metadata": {
        "colab": {
          "base_uri": "https://localhost:8080/",
          "height": 175
        },
        "id": "89MVL72sGz6c",
        "outputId": "17f9a22c-527c-4131-fa61-83d5c0fbaa06"
      },
      "execution_count": null,
      "outputs": [
        {
          "output_type": "execute_result",
          "data": {
            "text/plain": [
              "                       Pearson Correlation\n",
              "beta_max pressure,           -9.678683e-01\n",
              "hbylamda_max pressure        -7.654775e-18\n",
              "Fn_max pressure               2.174168e-18\n",
              "lamdabyl_max pressure        -3.887001e-17"
            ],
            "text/html": [
              "\n",
              "  <div id=\"df-673ba99a-5e1c-4aec-a5d7-8f0abed3b3bb\">\n",
              "    <div class=\"colab-df-container\">\n",
              "      <div>\n",
              "<style scoped>\n",
              "    .dataframe tbody tr th:only-of-type {\n",
              "        vertical-align: middle;\n",
              "    }\n",
              "\n",
              "    .dataframe tbody tr th {\n",
              "        vertical-align: top;\n",
              "    }\n",
              "\n",
              "    .dataframe thead th {\n",
              "        text-align: right;\n",
              "    }\n",
              "</style>\n",
              "<table border=\"1\" class=\"dataframe\">\n",
              "  <thead>\n",
              "    <tr style=\"text-align: right;\">\n",
              "      <th></th>\n",
              "      <th>Pearson Correlation</th>\n",
              "    </tr>\n",
              "  </thead>\n",
              "  <tbody>\n",
              "    <tr>\n",
              "      <th>beta_max pressure,</th>\n",
              "      <td>-9.678683e-01</td>\n",
              "    </tr>\n",
              "    <tr>\n",
              "      <th>hbylamda_max pressure</th>\n",
              "      <td>-7.654775e-18</td>\n",
              "    </tr>\n",
              "    <tr>\n",
              "      <th>Fn_max pressure</th>\n",
              "      <td>2.174168e-18</td>\n",
              "    </tr>\n",
              "    <tr>\n",
              "      <th>lamdabyl_max pressure</th>\n",
              "      <td>-3.887001e-17</td>\n",
              "    </tr>\n",
              "  </tbody>\n",
              "</table>\n",
              "</div>\n",
              "      <button class=\"colab-df-convert\" onclick=\"convertToInteractive('df-673ba99a-5e1c-4aec-a5d7-8f0abed3b3bb')\"\n",
              "              title=\"Convert this dataframe to an interactive table.\"\n",
              "              style=\"display:none;\">\n",
              "        \n",
              "  <svg xmlns=\"http://www.w3.org/2000/svg\" height=\"24px\"viewBox=\"0 0 24 24\"\n",
              "       width=\"24px\">\n",
              "    <path d=\"M0 0h24v24H0V0z\" fill=\"none\"/>\n",
              "    <path d=\"M18.56 5.44l.94 2.06.94-2.06 2.06-.94-2.06-.94-.94-2.06-.94 2.06-2.06.94zm-11 1L8.5 8.5l.94-2.06 2.06-.94-2.06-.94L8.5 2.5l-.94 2.06-2.06.94zm10 10l.94 2.06.94-2.06 2.06-.94-2.06-.94-.94-2.06-.94 2.06-2.06.94z\"/><path d=\"M17.41 7.96l-1.37-1.37c-.4-.4-.92-.59-1.43-.59-.52 0-1.04.2-1.43.59L10.3 9.45l-7.72 7.72c-.78.78-.78 2.05 0 2.83L4 21.41c.39.39.9.59 1.41.59.51 0 1.02-.2 1.41-.59l7.78-7.78 2.81-2.81c.8-.78.8-2.07 0-2.86zM5.41 20L4 18.59l7.72-7.72 1.47 1.35L5.41 20z\"/>\n",
              "  </svg>\n",
              "      </button>\n",
              "      \n",
              "  <style>\n",
              "    .colab-df-container {\n",
              "      display:flex;\n",
              "      flex-wrap:wrap;\n",
              "      gap: 12px;\n",
              "    }\n",
              "\n",
              "    .colab-df-convert {\n",
              "      background-color: #E8F0FE;\n",
              "      border: none;\n",
              "      border-radius: 50%;\n",
              "      cursor: pointer;\n",
              "      display: none;\n",
              "      fill: #1967D2;\n",
              "      height: 32px;\n",
              "      padding: 0 0 0 0;\n",
              "      width: 32px;\n",
              "    }\n",
              "\n",
              "    .colab-df-convert:hover {\n",
              "      background-color: #E2EBFA;\n",
              "      box-shadow: 0px 1px 2px rgba(60, 64, 67, 0.3), 0px 1px 3px 1px rgba(60, 64, 67, 0.15);\n",
              "      fill: #174EA6;\n",
              "    }\n",
              "\n",
              "    [theme=dark] .colab-df-convert {\n",
              "      background-color: #3B4455;\n",
              "      fill: #D2E3FC;\n",
              "    }\n",
              "\n",
              "    [theme=dark] .colab-df-convert:hover {\n",
              "      background-color: #434B5C;\n",
              "      box-shadow: 0px 1px 3px 1px rgba(0, 0, 0, 0.15);\n",
              "      filter: drop-shadow(0px 1px 2px rgba(0, 0, 0, 0.3));\n",
              "      fill: #FFFFFF;\n",
              "    }\n",
              "  </style>\n",
              "\n",
              "      <script>\n",
              "        const buttonEl =\n",
              "          document.querySelector('#df-673ba99a-5e1c-4aec-a5d7-8f0abed3b3bb button.colab-df-convert');\n",
              "        buttonEl.style.display =\n",
              "          google.colab.kernel.accessAllowed ? 'block' : 'none';\n",
              "\n",
              "        async function convertToInteractive(key) {\n",
              "          const element = document.querySelector('#df-673ba99a-5e1c-4aec-a5d7-8f0abed3b3bb');\n",
              "          const dataTable =\n",
              "            await google.colab.kernel.invokeFunction('convertToInteractive',\n",
              "                                                     [key], {});\n",
              "          if (!dataTable) return;\n",
              "\n",
              "          const docLinkHtml = 'Like what you see? Visit the ' +\n",
              "            '<a target=\"_blank\" href=https://colab.research.google.com/notebooks/data_table.ipynb>data table notebook</a>'\n",
              "            + ' to learn more about interactive tables.';\n",
              "          element.innerHTML = '';\n",
              "          dataTable['output_type'] = 'display_data';\n",
              "          await google.colab.output.renderOutput(dataTable, element);\n",
              "          const docLink = document.createElement('div');\n",
              "          docLink.innerHTML = docLinkHtml;\n",
              "          element.appendChild(docLink);\n",
              "        }\n",
              "      </script>\n",
              "    </div>\n",
              "  </div>\n",
              "  "
            ]
          },
          "metadata": {},
          "execution_count": 376
        }
      ]
    },
    {
      "cell_type": "code",
      "source": [
        "max_pressure"
      ],
      "metadata": {
        "colab": {
          "base_uri": "https://localhost:8080/"
        },
        "id": "0iddCeCDNonG",
        "outputId": "68dd0bc3-c858-4f23-87bd-84e481689a4c"
      },
      "execution_count": null,
      "outputs": [
        {
          "output_type": "execute_result",
          "data": {
            "text/plain": [
              "113    2.615207\n",
              "775    2.983796\n",
              "160    2.472281\n",
              "482    2.615207\n",
              "392    2.615207\n",
              "         ...   \n",
              "496    2.983796\n",
              "545    2.615207\n",
              "664    2.472281\n",
              "757    2.983796\n",
              "884    2.887573\n",
              "Name: max pressure, Length: 1098, dtype: float64"
            ]
          },
          "metadata": {},
          "execution_count": 283
        }
      ]
    },
    {
      "cell_type": "markdown",
      "source": [
        "**TRAIN TEST SPLIT**"
      ],
      "metadata": {
        "id": "yGrMmisQTXCw"
      }
    },
    {
      "cell_type": "code",
      "source": [
        "data_x = df.drop([\"max pressure\"],axis=1)"
      ],
      "metadata": {
        "id": "7KRUpwGHM8t6"
      },
      "execution_count": null,
      "outputs": []
    },
    {
      "cell_type": "code",
      "source": [
        "data_x =data_x.to_numpy()"
      ],
      "metadata": {
        "id": "EQm5DDd8Pewu"
      },
      "execution_count": null,
      "outputs": []
    },
    {
      "cell_type": "code",
      "source": [
        "data_y=max_pressure.to_numpy()"
      ],
      "metadata": {
        "id": "QRa1ukUXJJf8"
      },
      "execution_count": null,
      "outputs": []
    },
    {
      "cell_type": "code",
      "source": [
        "data_train=data_x\n",
        "data_y_train=data_y"
      ],
      "metadata": {
        "id": "_Zz3JBmZPbyp"
      },
      "execution_count": null,
      "outputs": []
    },
    {
      "cell_type": "code",
      "source": [
        "data_train = data_x[:-20]\n",
        "data_test = data_x[-20:]"
      ],
      "metadata": {
        "id": "A3GeIkXKPhpC"
      },
      "execution_count": null,
      "outputs": []
    },
    {
      "cell_type": "code",
      "source": [
        "data_y_train =data_y[:-20]\n",
        "data_y_test = data_y[-20:]"
      ],
      "metadata": {
        "id": "f1GbrMSHQBuL"
      },
      "execution_count": null,
      "outputs": []
    },
    {
      "cell_type": "markdown",
      "source": [
        "**VISUALIZATION**"
      ],
      "metadata": {
        "id": "uu3i_zKyTfvC"
      }
    },
    {
      "cell_type": "code",
      "source": [
        "import seaborn as sns\n",
        "import matplotlib.pyplot as plt"
      ],
      "metadata": {
        "id": "JeaZOeKkWlzo"
      },
      "execution_count": null,
      "outputs": []
    },
    {
      "cell_type": "code",
      "source": [
        "sns.scatterplot(x='max pressure',\n",
        "                y='lamdabyl', data=df)\n",
        "plt.savefig('scatter_plot1.png')"
      ],
      "metadata": {
        "colab": {
          "base_uri": "https://localhost:8080/",
          "height": 449
        },
        "id": "ntdE_QLEToj8",
        "outputId": "fbde7346-4504-4332-f4ed-87c33cfa1f72"
      },
      "execution_count": null,
      "outputs": [
        {
          "output_type": "display_data",
          "data": {
            "text/plain": [
              "<Figure size 640x480 with 1 Axes>"
            ],
            "image/png": "[encoded data removed]"
          },
          "metadata": {}
        }
      ]
    },
    {
      "cell_type": "code",
      "source": [
        "sns.scatterplot(x='max pressure',\n",
        "                y='hbylamda', data=df)\n",
        "plt.savefig('scatter_plot2.png')"
      ],
      "metadata": {
        "colab": {
          "base_uri": "https://localhost:8080/",
          "height": 449
        },
        "id": "Esx_TqquXeox",
        "outputId": "6c6765e8-c621-41d2-b921-e230a323e6b1"
      },
      "execution_count": null,
      "outputs": [
        {
          "output_type": "display_data",
          "data": {
            "text/plain": [
              "<Figure size 640x480 with 1 Axes>"
            ],
            "image/png": "[encoded data removed]"
          },
          "metadata": {}
        }
      ]
    },
    {
      "cell_type": "code",
      "source": [
        "sns.scatterplot(x='max pressure',\n",
        "                y='beta', data=df)\n",
        "plt.savefig('scatter_plot3.png')"
      ],
      "metadata": {
        "colab": {
          "base_uri": "https://localhost:8080/",
          "height": 449
        },
        "id": "qwktae6UXmcw",
        "outputId": "8426cfab-c11e-4799-f30d-d427974547e6"
      },
      "execution_count": null,
      "outputs": [
        {
          "output_type": "display_data",
          "data": {
            "text/plain": [
              "<Figure size 640x480 with 1 Axes>"
            ],
            "image/png": "[encoded data removed]"
          },
          "metadata": {}
        }
      ]
    },
    {
      "cell_type": "code",
      "source": [
        "sns.scatterplot(x='max pressure',\n",
        "                y='Fn', data=df)\n",
        "plt.savefig('scatter_plot4.png')"
      ],
      "metadata": {
        "colab": {
          "base_uri": "https://localhost:8080/",
          "height": 449
        },
        "id": "cJ38eoG5Xqeq",
        "outputId": "c83aabbf-103e-4faa-cb9d-353b9d41a745"
      },
      "execution_count": null,
      "outputs": [
        {
          "output_type": "display_data",
          "data": {
            "text/plain": [
              "<Figure size 640x480 with 1 Axes>"
            ],
            "image/png": "[encoded data removed]"
          },
          "metadata": {}
        }
      ]
    },
    {
      "cell_type": "markdown",
      "source": [
        "**odinary least squares for all 4 attributes**"
      ],
      "metadata": {
        "id": "ER8otLa1o3ww"
      }
    },
    {
      "cell_type": "code",
      "source": [
        "import matplotlib.pyplot as plt\n",
        "import numpy as np\n",
        "from sklearn import datasets, linear_model\n",
        "from sklearn.metrics import mean_squared_error, r2_score"
      ],
      "metadata": {
        "id": "n5WAhTacQoZZ"
      },
      "execution_count": null,
      "outputs": []
    },
    {
      "cell_type": "code",
      "source": [
        "regr = linear_model.LinearRegression()"
      ],
      "metadata": {
        "id": "1Wb87_lfQGi3"
      },
      "execution_count": null,
      "outputs": []
    },
    {
      "cell_type": "code",
      "source": [
        "regr.fit(data_train, data_y_train)"
      ],
      "metadata": {
        "colab": {
          "base_uri": "https://localhost:8080/",
          "height": 74
        },
        "id": "RiY4QIXVQYpp",
        "outputId": "d173895e-2897-4ead-baa8-b22fcd6bdfc7"
      },
      "execution_count": null,
      "outputs": [
        {
          "output_type": "execute_result",
          "data": {
            "text/plain": [
              "LinearRegression()"
            ],
            "text/html": [
              "<style>#sk-container-id-5 {color: black;background-color: white;}#sk-container-id-5 pre{padding: 0;}#sk-container-id-5 div.sk-toggleable {background-color: white;}#sk-container-id-5 label.sk-toggleable__label {cursor: pointer;display: block;width: 100%;margin-bottom: 0;padding: 0.3em;box-sizing: border-box;text-align: center;}#sk-container-id-5 label.sk-toggleable__label-arrow:before {content: \"▸\";float: left;margin-right: 0.25em;color: #696969;}#sk-container-id-5 label.sk-toggleable__label-arrow:hover:before {color: black;}#sk-container-id-5 div.sk-estimator:hover label.sk-toggleable__label-arrow:before {color: black;}#sk-container-id-5 div.sk-toggleable__content {max-height: 0;max-width: 0;overflow: hidden;text-align: left;background-color: #f0f8ff;}#sk-container-id-5 div.sk-toggleable__content pre {margin: 0.2em;color: black;border-radius: 0.25em;background-color: #f0f8ff;}#sk-container-id-5 input.sk-toggleable__control:checked~div.sk-toggleable__content {max-height: 200px;max-width: 100%;overflow: auto;}#sk-container-id-5 input.sk-toggleable__control:checked~label.sk-toggleable__label-arrow:before {content: \"▾\";}#sk-container-id-5 div.sk-estimator input.sk-toggleable__control:checked~label.sk-toggleable__label {background-color: #d4ebff;}#sk-container-id-5 div.sk-label input.sk-toggleable__control:checked~label.sk-toggleable__label {background-color: #d4ebff;}#sk-container-id-5 input.sk-hidden--visually {border: 0;clip: rect(1px 1px 1px 1px);clip: rect(1px, 1px, 1px, 1px);height: 1px;margin: -1px;overflow: hidden;padding: 0;position: absolute;width: 1px;}#sk-container-id-5 div.sk-estimator {font-family: monospace;background-color: #f0f8ff;border: 1px dotted black;border-radius: 0.25em;box-sizing: border-box;margin-bottom: 0.5em;}#sk-container-id-5 div.sk-estimator:hover {background-color: #d4ebff;}#sk-container-id-5 div.sk-parallel-item::after {content: \"\";width: 100%;border-bottom: 1px solid gray;flex-grow: 1;}#sk-container-id-5 div.sk-label:hover label.sk-toggleable__label {background-color: #d4ebff;}#sk-container-id-5 div.sk-serial::before {content: \"\";position: absolute;border-left: 1px solid gray;box-sizing: border-box;top: 0;bottom: 0;left: 50%;z-index: 0;}#sk-container-id-5 div.sk-serial {display: flex;flex-direction: column;align-items: center;background-color: white;padding-right: 0.2em;padding-left: 0.2em;position: relative;}#sk-container-id-5 div.sk-item {position: relative;z-index: 1;}#sk-container-id-5 div.sk-parallel {display: flex;align-items: stretch;justify-content: center;background-color: white;position: relative;}#sk-container-id-5 div.sk-item::before, #sk-container-id-5 div.sk-parallel-item::before {content: \"\";position: absolute;border-left: 1px solid gray;box-sizing: border-box;top: 0;bottom: 0;left: 50%;z-index: -1;}#sk-container-id-5 div.sk-parallel-item {display: flex;flex-direction: column;z-index: 1;position: relative;background-color: white;}#sk-container-id-5 div.sk-parallel-item:first-child::after {align-self: flex-end;width: 50%;}#sk-container-id-5 div.sk-parallel-item:last-child::after {align-self: flex-start;width: 50%;}#sk-container-id-5 div.sk-parallel-item:only-child::after {width: 0;}#sk-container-id-5 div.sk-dashed-wrapped {border: 1px dashed gray;margin: 0 0.4em 0.5em 0.4em;box-sizing: border-box;padding-bottom: 0.4em;background-color: white;}#sk-container-id-5 div.sk-label label {font-family: monospace;font-weight: bold;display: inline-block;line-height: 1.2em;}#sk-container-id-5 div.sk-label-container {text-align: center;}#sk-container-id-5 div.sk-container {/* jupyter's `normalize.less` sets `[hidden] { display: none; }` but bootstrap.min.css set `[hidden] { display: none !important; }` so we also need the `!important` here to be able to override the default hidden behavior on the sphinx rendered scikit-learn.org. See: https://github.com/scikit-learn/scikit-learn/issues/21755 */display: inline-block !important;position: relative;}#sk-container-id-5 div.sk-text-repr-fallback {display: none;}</style><div id=\"sk-container-id-5\" class=\"sk-top-container\"><div class=\"sk-text-repr-fallback\"><pre>LinearRegression()</pre><b>In a Jupyter environment, please rerun this cell to show the HTML representation or trust the notebook. <br />On GitHub, the HTML representation is unable to render, please try loading this page with nbviewer.org.</b></div><div class=\"sk-container\" hidden><div class=\"sk-item\"><div class=\"sk-estimator sk-toggleable\"><input class=\"sk-toggleable__control sk-hidden--visually\" id=\"sk-estimator-id-7\" type=\"checkbox\" checked><label for=\"sk-estimator-id-7\" class=\"sk-toggleable__label sk-toggleable__label-arrow\">LinearRegression</label><div class=\"sk-toggleable__content\"><pre>LinearRegression()</pre></div></div></div></div></div>"
            ]
          },
          "metadata": {},
          "execution_count": 292
        }
      ]
    },
    {
      "cell_type": "code",
      "source": [
        "data_y_pred = regr.predict(data_test)"
      ],
      "metadata": {
        "id": "BeU5uK3WY6nS"
      },
      "execution_count": null,
      "outputs": []
    },
    {
      "cell_type": "code",
      "source": [
        "print(\"Coefficients: \\n\", regr.coef_)\n",
        "# The mean squared error\n",
        "print(\"Mean squared error: %f\" % mean_squared_error(data_y_test, data_y_pred))\n",
        "score_plr=mean_squared_error(data_y_test, data_y_pred)\n",
        "# The coefficient of determination: 1 is perfect prediction\n",
        "print(\"Coefficient of determination: %f\" % r2_score(data_y_test, data_y_pred))\n"
      ],
      "metadata": {
        "colab": {
          "base_uri": "https://localhost:8080/"
        },
        "id": "WzXyWxB6YxLS",
        "outputId": "c4a8bc5a-5b69-42c3-9a40-9a0ef492a52c"
      },
      "execution_count": null,
      "outputs": [
        {
          "output_type": "stream",
          "name": "stdout",
          "text": [
            "Coefficients: \n",
            " [ 0.00014146  0.00085251  0.00210528 -0.01070115]\n",
            "Mean squared error: 0.001618\n",
            "Coefficient of determination: 0.971232\n"
          ]
        }
      ]
    },
    {
      "cell_type": "code",
      "source": [
        "RMSE_linear = mean_squared_error(data_y_test, data_y_pred)\n",
        "r2_ordinary = r2_score(data_y_test, data_y_pred)"
      ],
      "metadata": {
        "id": "AjcL_97VZKv6"
      },
      "execution_count": null,
      "outputs": []
    },
    {
      "cell_type": "markdown",
      "source": [
        "lasso"
      ],
      "metadata": {
        "id": "XAhE5WAj7GNt"
      }
    },
    {
      "cell_type": "code",
      "source": [
        "from sklearn.preprocessing import scale \n",
        "from sklearn.linear_model import LinearRegression, RidgeCV, LassoCV\n",
        "from sklearn.model_selection import KFold, cross_val_score, train_test_split\n",
        "from sklearn.metrics import mean_squared_error\n",
        "from sklearn.decomposition import PCA"
      ],
      "metadata": {
        "id": "aN4Wsq8gAooJ"
      },
      "execution_count": null,
      "outputs": []
    },
    {
      "cell_type": "code",
      "source": [
        "lasso_reg = LassoCV().fit(data_train, data_y_train)"
      ],
      "metadata": {
        "id": "T_JffExN6vHW"
      },
      "execution_count": null,
      "outputs": []
    },
    {
      "cell_type": "code",
      "source": [
        "data_y_predlasso=lasso_reg.predict(data_test)"
      ],
      "metadata": {
        "id": "0JiwSfD_67Yd"
      },
      "execution_count": null,
      "outputs": []
    },
    {
      "cell_type": "code",
      "source": [
        "print(\"Coefficients: \\n\", lasso_reg.coef_)\n",
        "# The mean squared error\n",
        "print(\"Mean squared error: %f\" % mean_squared_error(data_y_test, data_y_predlasso))\n",
        "score_plrl=mean_squared_error(data_y_test, data_y_predlasso)\n",
        "# The coefficient of determination: 1 is perfect prediction\n",
        "print(\"Coefficient of determination: %f\" % r2_score(data_y_test, data_y_predlasso))"
      ],
      "metadata": {
        "colab": {
          "base_uri": "https://localhost:8080/"
        },
        "id": "-OYvv79s7COf",
        "outputId": "8c0f4884-ca46-4359-cecb-cc41d9b027e6"
      },
      "execution_count": null,
      "outputs": [
        {
          "output_type": "stream",
          "name": "stdout",
          "text": [
            "Coefficients: \n",
            " [ 0.          0.          0.         -0.01069048]\n",
            "Mean squared error: 0.001622\n",
            "Coefficient of determination: 0.971159\n"
          ]
        }
      ]
    },
    {
      "cell_type": "code",
      "source": [
        "RMSE_lasso = mean_squared_error(data_y_test, data_y_predlasso)\n",
        "r2_lasso = r2_score(data_y_test, data_y_predlasso)"
      ],
      "metadata": {
        "id": "hd-2hw4xZZeM"
      },
      "execution_count": null,
      "outputs": []
    },
    {
      "cell_type": "markdown",
      "source": [
        "ridge"
      ],
      "metadata": {
        "id": "r4wHjIXn7KtH"
      }
    },
    {
      "cell_type": "code",
      "source": [
        "ridge_reg = RidgeCV().fit(data_train, data_y_train)"
      ],
      "metadata": {
        "id": "uUneCw0e7Ztm"
      },
      "execution_count": null,
      "outputs": []
    },
    {
      "cell_type": "code",
      "source": [
        "data_y_predridge=ridge_reg.predict(data_test)"
      ],
      "metadata": {
        "id": "Byn94e2e7x-P"
      },
      "execution_count": null,
      "outputs": []
    },
    {
      "cell_type": "code",
      "source": [
        "print(\"Coefficients: \\n\", ridge_reg.coef_)\n",
        "# The mean squared error\n",
        "print(\"Mean squared error: %f\" % mean_squared_error(data_y_test, data_y_predridge))\n",
        "score_plrr=mean_squared_error(data_y_test, data_y_predridge)\n",
        "# The coefficient of determination: 1 is perfect prediction\n",
        "print(\"Coefficient of determination: %f\" % r2_score(data_y_test, data_y_predridge))"
      ],
      "metadata": {
        "colab": {
          "base_uri": "https://localhost:8080/"
        },
        "id": "zg_Nhobh730-",
        "outputId": "ce6e0c6f-c6f0-4f89-f77e-61e541cb4792"
      },
      "execution_count": null,
      "outputs": [
        {
          "output_type": "stream",
          "name": "stdout",
          "text": [
            "Coefficients: \n",
            " [ 1.23019964e-04  1.86723515e-04  9.27662347e-05 -1.07008892e-02]\n",
            "Mean squared error: 0.001618\n",
            "Coefficient of determination: 0.971237\n"
          ]
        }
      ]
    },
    {
      "cell_type": "code",
      "source": [
        "RMSE_ridge= mean_squared_error(data_y_test, data_y_predridge)\n",
        "r2_ridge = r2_score(data_y_test, data_y_predridge)"
      ],
      "metadata": {
        "id": "oxW37RkOZn7L"
      },
      "execution_count": null,
      "outputs": []
    },
    {
      "cell_type": "markdown",
      "source": [
        "BayesianRidge\n"
      ],
      "metadata": {
        "id": "x0YSqeAfY_Zr"
      }
    },
    {
      "cell_type": "code",
      "source": [
        "clf = linear_model.BayesianRidge()"
      ],
      "metadata": {
        "id": "KwhDuMDKOEfn"
      },
      "execution_count": null,
      "outputs": []
    },
    {
      "cell_type": "code",
      "source": [
        "clf.fit(data_train, data_y_train)"
      ],
      "metadata": {
        "colab": {
          "base_uri": "https://localhost:8080/",
          "height": 74
        },
        "id": "l1hYZzdeOGMQ",
        "outputId": "07623f89-bc67-445f-f496-9265ef16ec42"
      },
      "execution_count": null,
      "outputs": [
        {
          "output_type": "execute_result",
          "data": {
            "text/plain": [
              "BayesianRidge()"
            ],
            "text/html": [
              "<style>#sk-container-id-6 {color: black;background-color: white;}#sk-container-id-6 pre{padding: 0;}#sk-container-id-6 div.sk-toggleable {background-color: white;}#sk-container-id-6 label.sk-toggleable__label {cursor: pointer;display: block;width: 100%;margin-bottom: 0;padding: 0.3em;box-sizing: border-box;text-align: center;}#sk-container-id-6 label.sk-toggleable__label-arrow:before {content: \"▸\";float: left;margin-right: 0.25em;color: #696969;}#sk-container-id-6 label.sk-toggleable__label-arrow:hover:before {color: black;}#sk-container-id-6 div.sk-estimator:hover label.sk-toggleable__label-arrow:before {color: black;}#sk-container-id-6 div.sk-toggleable__content {max-height: 0;max-width: 0;overflow: hidden;text-align: left;background-color: #f0f8ff;}#sk-container-id-6 div.sk-toggleable__content pre {margin: 0.2em;color: black;border-radius: 0.25em;background-color: #f0f8ff;}#sk-container-id-6 input.sk-toggleable__control:checked~div.sk-toggleable__content {max-height: 200px;max-width: 100%;overflow: auto;}#sk-container-id-6 input.sk-toggleable__control:checked~label.sk-toggleable__label-arrow:before {content: \"▾\";}#sk-container-id-6 div.sk-estimator input.sk-toggleable__control:checked~label.sk-toggleable__label {background-color: #d4ebff;}#sk-container-id-6 div.sk-label input.sk-toggleable__control:checked~label.sk-toggleable__label {background-color: #d4ebff;}#sk-container-id-6 input.sk-hidden--visually {border: 0;clip: rect(1px 1px 1px 1px);clip: rect(1px, 1px, 1px, 1px);height: 1px;margin: -1px;overflow: hidden;padding: 0;position: absolute;width: 1px;}#sk-container-id-6 div.sk-estimator {font-family: monospace;background-color: #f0f8ff;border: 1px dotted black;border-radius: 0.25em;box-sizing: border-box;margin-bottom: 0.5em;}#sk-container-id-6 div.sk-estimator:hover {background-color: #d4ebff;}#sk-container-id-6 div.sk-parallel-item::after {content: \"\";width: 100%;border-bottom: 1px solid gray;flex-grow: 1;}#sk-container-id-6 div.sk-label:hover label.sk-toggleable__label {background-color: #d4ebff;}#sk-container-id-6 div.sk-serial::before {content: \"\";position: absolute;border-left: 1px solid gray;box-sizing: border-box;top: 0;bottom: 0;left: 50%;z-index: 0;}#sk-container-id-6 div.sk-serial {display: flex;flex-direction: column;align-items: center;background-color: white;padding-right: 0.2em;padding-left: 0.2em;position: relative;}#sk-container-id-6 div.sk-item {position: relative;z-index: 1;}#sk-container-id-6 div.sk-parallel {display: flex;align-items: stretch;justify-content: center;background-color: white;position: relative;}#sk-container-id-6 div.sk-item::before, #sk-container-id-6 div.sk-parallel-item::before {content: \"\";position: absolute;border-left: 1px solid gray;box-sizing: border-box;top: 0;bottom: 0;left: 50%;z-index: -1;}#sk-container-id-6 div.sk-parallel-item {display: flex;flex-direction: column;z-index: 1;position: relative;background-color: white;}#sk-container-id-6 div.sk-parallel-item:first-child::after {align-self: flex-end;width: 50%;}#sk-container-id-6 div.sk-parallel-item:last-child::after {align-self: flex-start;width: 50%;}#sk-container-id-6 div.sk-parallel-item:only-child::after {width: 0;}#sk-container-id-6 div.sk-dashed-wrapped {border: 1px dashed gray;margin: 0 0.4em 0.5em 0.4em;box-sizing: border-box;padding-bottom: 0.4em;background-color: white;}#sk-container-id-6 div.sk-label label {font-family: monospace;font-weight: bold;display: inline-block;line-height: 1.2em;}#sk-container-id-6 div.sk-label-container {text-align: center;}#sk-container-id-6 div.sk-container {/* jupyter's `normalize.less` sets `[hidden] { display: none; }` but bootstrap.min.css set `[hidden] { display: none !important; }` so we also need the `!important` here to be able to override the default hidden behavior on the sphinx rendered scikit-learn.org. See: https://github.com/scikit-learn/scikit-learn/issues/21755 */display: inline-block !important;position: relative;}#sk-container-id-6 div.sk-text-repr-fallback {display: none;}</style><div id=\"sk-container-id-6\" class=\"sk-top-container\"><div class=\"sk-text-repr-fallback\"><pre>BayesianRidge()</pre><b>In a Jupyter environment, please rerun this cell to show the HTML representation or trust the notebook. <br />On GitHub, the HTML representation is unable to render, please try loading this page with nbviewer.org.</b></div><div class=\"sk-container\" hidden><div class=\"sk-item\"><div class=\"sk-estimator sk-toggleable\"><input class=\"sk-toggleable__control sk-hidden--visually\" id=\"sk-estimator-id-8\" type=\"checkbox\" checked><label for=\"sk-estimator-id-8\" class=\"sk-toggleable__label sk-toggleable__label-arrow\">BayesianRidge</label><div class=\"sk-toggleable__content\"><pre>BayesianRidge()</pre></div></div></div></div></div>"
            ]
          },
          "metadata": {},
          "execution_count": 306
        }
      ]
    },
    {
      "cell_type": "code",
      "source": [
        "data_y_bay=clf.predict(data_test)"
      ],
      "metadata": {
        "id": "LXII8gXROUq3"
      },
      "execution_count": null,
      "outputs": []
    },
    {
      "cell_type": "code",
      "source": [
        "print(\"Coefficients: \\n\", clf.coef_)\n",
        "# The mean squared error\n",
        "print(\"Mean squared error: %f\" % mean_squared_error(data_y_test, data_y_bay))\n",
        "score_plrr=mean_squared_error(data_y_test, data_y_bay)\n",
        "# The coefficient of determination: 1 is perfect prediction\n",
        "print(\"Coefficient of determination: %f\" % r2_score(data_y_test, data_y_bay))"
      ],
      "metadata": {
        "colab": {
          "base_uri": "https://localhost:8080/"
        },
        "id": "tC2rrxmUO-cH",
        "outputId": "21a5bf6e-9451-450a-ca7a-96ece1d23abc"
      },
      "execution_count": null,
      "outputs": [
        {
          "output_type": "stream",
          "name": "stdout",
          "text": [
            "Coefficients: \n",
            " [ 1.05167630e-04  4.55715514e-05  1.96775755e-05 -1.06998704e-02]\n",
            "Mean squared error: 0.001618\n",
            "Coefficient of determination: 0.971230\n"
          ]
        }
      ]
    },
    {
      "cell_type": "code",
      "source": [
        "RMSE_Bayesian= mean_squared_error(data_y_test, data_y_bay)\n",
        "r2_Bayesian = r2_score(data_y_test, data_y_bay)"
      ],
      "metadata": {
        "id": "mIumukcCZ2-R"
      },
      "execution_count": null,
      "outputs": []
    },
    {
      "cell_type": "markdown",
      "source": [
        "**PCA**"
      ],
      "metadata": {
        "id": "lHy0Tca1QIX3"
      }
    },
    {
      "cell_type": "code",
      "source": [
        "from sklearn.preprocessing import scale \n",
        "from sklearn.linear_model import LinearRegression, RidgeCV, LassoCV\n",
        "from sklearn.model_selection import KFold, cross_val_score, train_test_split\n",
        "from sklearn.metrics import mean_squared_error\n",
        "from sklearn.decomposition import PCA"
      ],
      "metadata": {
        "id": "r7dvcMsUQHOn"
      },
      "execution_count": null,
      "outputs": []
    },
    {
      "cell_type": "code",
      "source": [
        "X_train_scaled = scale(data_train) \n",
        "X_test_scaled = scale(data_test)"
      ],
      "metadata": {
        "id": "jzSMNoTjQRkH"
      },
      "execution_count": null,
      "outputs": []
    },
    {
      "cell_type": "code",
      "source": [
        "cv = KFold(n_splits=10, shuffle=True, random_state=42)\n",
        "\n",
        "# Linear Regression\n",
        "lin_reg = LinearRegression().fit(X_train_scaled, data_y_train)\n",
        "lr_score_train = -1 * cross_val_score(lin_reg, X_train_scaled, data_y_train, cv=cv, scoring='neg_root_mean_squared_error').mean()\n",
        "lr_score_test = mean_squared_error(data_y_test, lin_reg.predict(X_test_scaled))\n",
        "\n",
        "# Lasso Regression\n",
        "lasso_reg = LassoCV().fit(X_train_scaled, data_y_train)\n",
        "lasso_score_train = -1 * cross_val_score(lasso_reg, X_train_scaled, data_y_train, cv=cv, scoring='neg_root_mean_squared_error').mean()\n",
        "lasso_score_test = mean_squared_error(data_y_test, lasso_reg.predict(X_test_scaled))\n",
        "\n",
        "# Ridge Regression\n",
        "ridge_reg = RidgeCV().fit(X_train_scaled, data_y_train)\n",
        "ridge_score_train = -1 * cross_val_score(ridge_reg, X_train_scaled, data_y_train, cv=cv, scoring='neg_root_mean_squared_error').mean()\n",
        "ridge_score_test = mean_squared_error(data_y_test, ridge_reg.predict(X_test_scaled))\n",
        "\n"
      ],
      "metadata": {
        "id": "WkkMgVfuSKpg"
      },
      "execution_count": null,
      "outputs": []
    },
    {
      "cell_type": "code",
      "source": [
        "print(\"Mean squared error: %f\" % lr_score_test)\n",
        "# The coefficient of determination: 1 is perfect prediction\n",
        "print(\"Coefficient of determination: %f\" %  r2_score(data_y_test, lin_reg.predict(X_test_scaled)))\n",
        "r2_crosslinear = r2_score(data_y_test, lin_reg.predict(X_test_scaled))"
      ],
      "metadata": {
        "colab": {
          "base_uri": "https://localhost:8080/"
        },
        "id": "GkAYIACCVF1n",
        "outputId": "ebcdae37-f1c1-46e8-ff1c-0364ef8f9a68"
      },
      "execution_count": null,
      "outputs": [
        {
          "output_type": "stream",
          "name": "stdout",
          "text": [
            "Mean squared error: 0.003331\n",
            "Coefficient of determination: 0.940773\n"
          ]
        }
      ]
    },
    {
      "cell_type": "code",
      "source": [
        "print(\"Mean squared error: %f\" % lasso_score_test)\n",
        "# The coefficient of determination: 1 is perfect prediction\n",
        "print(\"Coefficient of determination: %f\" %  r2_score(data_y_test, lasso_reg.predict(X_test_scaled)))\n",
        "r2_crosslasso = r2_score(data_y_test, lasso_reg.predict(X_test_scaled))"
      ],
      "metadata": {
        "colab": {
          "base_uri": "https://localhost:8080/"
        },
        "id": "BaDI-SjidhjA",
        "outputId": "495f37f4-9c6e-4a97-d079-009ec23e827d"
      },
      "execution_count": null,
      "outputs": [
        {
          "output_type": "stream",
          "name": "stdout",
          "text": [
            "Mean squared error: 0.003417\n",
            "Coefficient of determination: 0.939254\n"
          ]
        }
      ]
    },
    {
      "cell_type": "code",
      "source": [
        "print(\"Mean squared error: %f\" % ridge_score_test)\n",
        "# The coefficient of determination: 1 is perfect prediction\n",
        "print(\"Coefficient of determination: %f\" %  r2_score(data_y_test, ridge_reg.predict(X_test_scaled)))\n",
        "r2_crossridge =  r2_score(data_y_test, ridge_reg.predict(X_test_scaled))"
      ],
      "metadata": {
        "colab": {
          "base_uri": "https://localhost:8080/"
        },
        "id": "U_lxa5CSfAov",
        "outputId": "799db9ba-3abd-4348-fe94-1c9fed3812b3"
      },
      "execution_count": null,
      "outputs": [
        {
          "output_type": "stream",
          "name": "stdout",
          "text": [
            "Mean squared error: 0.003332\n",
            "Coefficient of determination: 0.940755\n"
          ]
        }
      ]
    },
    {
      "cell_type": "code",
      "source": [
        "lasso_score_test"
      ],
      "metadata": {
        "colab": {
          "base_uri": "https://localhost:8080/"
        },
        "id": "l056-MMEYTGW",
        "outputId": "0f7bfb06-5d62-4c63-a1fc-3cd1400d0402"
      },
      "execution_count": null,
      "outputs": [
        {
          "output_type": "execute_result",
          "data": {
            "text/plain": [
              "0.003416642322913026"
            ]
          },
          "metadata": {},
          "execution_count": 316
        }
      ]
    },
    {
      "cell_type": "code",
      "source": [
        "ridge_score_test"
      ],
      "metadata": {
        "colab": {
          "base_uri": "https://localhost:8080/"
        },
        "id": "qNJVI-rgYVPP",
        "outputId": "6fd6cc12-c0e9-4254-ad97-5ffad35c6b8f"
      },
      "execution_count": null,
      "outputs": [
        {
          "output_type": "execute_result",
          "data": {
            "text/plain": [
              "0.00333224101532341"
            ]
          },
          "metadata": {},
          "execution_count": 317
        }
      ]
    },
    {
      "cell_type": "code",
      "source": [
        "# Generate all the principal components\n",
        "pca = PCA() # Default n_components = min(n_samples, n_features)\n",
        "X_train_pc = pca.fit_transform(X_train_scaled)\n",
        "\n",
        "# View first 5 rows of all principal components\n",
        "pd.DataFrame(pca.components_.T).to_csv(\"pca.csv\")\n"
      ],
      "metadata": {
        "id": "GlfI1GW-SqgW"
      },
      "execution_count": null,
      "outputs": []
    },
    {
      "cell_type": "code",
      "source": [
        "pca.explained_variance_ratio_"
      ],
      "metadata": {
        "colab": {
          "base_uri": "https://localhost:8080/"
        },
        "id": "b5gIUHwwXj3H",
        "outputId": "6e46e0d4-5374-4723-ff20-2ede8fe67098"
      },
      "execution_count": null,
      "outputs": [
        {
          "output_type": "execute_result",
          "data": {
            "text/plain": [
              "array([0.30124808, 0.2503152 , 0.24854276, 0.19989397])"
            ]
          },
          "metadata": {},
          "execution_count": 319
        }
      ]
    },
    {
      "cell_type": "code",
      "source": [
        "import matplotlib.pyplot as plt"
      ],
      "metadata": {
        "id": "LhDtTs-sTCZR"
      },
      "execution_count": null,
      "outputs": []
    },
    {
      "cell_type": "code",
      "source": [
        "lin_reg = LinearRegression()\n",
        "\n",
        "# Create empty list to store RMSE for each iteration\n",
        "rmse_list = []\n",
        "\n",
        "# Loop through different count of principal components for linear regression\n",
        "for i in range(1, X_train_pc.shape[1]+1):\n",
        "    rmse_score = -1 * cross_val_score(lin_reg, \n",
        "                                      X_train_pc[:,:i], # Use first k principal components\n",
        "                                      data_y_train, \n",
        "                                      cv=cv, \n",
        "                                      scoring='neg_root_mean_squared_error').mean()\n",
        "    rmse_list.append(rmse_score)\n",
        "    \n",
        "# Visual analysis - plot RMSE vs count of principal components used\n",
        "plt.plot(rmse_list, '-o')\n",
        "plt.xlabel('Number of principal components in regression')\n",
        "plt.ylabel('RMSE')\n",
        "plt.title('Quality')\n",
        "plt.xlim(xmin=-1);\n",
        "plt.xticks(np.arange(X_train_pc.shape[1]), np.arange(1, X_train_pc.shape[1]+1))\n",
        "plt.axhline(y=lr_score_train, color='g', linestyle='-');\n",
        "plt.savefig('plot5.png')"
      ],
      "metadata": {
        "colab": {
          "base_uri": "https://localhost:8080/",
          "height": 472
        },
        "id": "X0tpxGySS6IP",
        "outputId": "c3e3b672-3545-4302-b079-26be9a856c30"
      },
      "execution_count": null,
      "outputs": [
        {
          "output_type": "display_data",
          "data": {
            "text/plain": [
              "<Figure size 640x480 with 1 Axes>"
            ],
            "image/png": "[encoded data removed]"
          },
          "metadata": {}
        }
      ]
    },
    {
      "cell_type": "code",
      "source": [
        "# Visually determine optimal number of principal components\n",
        "best_pc_num = 3\n",
        "\n",
        "# Train model with first 9 principal components\n",
        "lin_reg_pc = LinearRegression().fit(X_train_pc[:,:best_pc_num], data_y_train)\n",
        "\n",
        "# Get cross-validation RMSE (train set)\n",
        "pcr_score_train = -1 * cross_val_score(lin_reg_pc, \n",
        "                                       X_train_pc[:,:best_pc_num], \n",
        "                                       data_y_train, \n",
        "                                       cv=cv, \n",
        "                                       scoring='neg_root_mean_squared_error').mean()\n",
        "\n",
        "# Train model on training set\n",
        "lin_reg_pc = LinearRegression().fit(X_train_pc[:,:best_pc_num], data_y_train)\n",
        "\n",
        "# Get first 9 principal components of test set\n",
        "X_test_pc = pca.transform(X_test_scaled)[:,:best_pc_num]\n",
        "\n",
        "# Predict on test data\n",
        "preds = lin_reg_pc.predict(X_test_pc)\n",
        "pcr_score_test = mean_squared_error(data_y_test, preds)"
      ],
      "metadata": {
        "id": "KZyq8SQgTb5n"
      },
      "execution_count": null,
      "outputs": []
    },
    {
      "cell_type": "code",
      "source": [
        "print(\"Mean squared error: %f\" % pcr_score_test)\n",
        "# The coefficient of determination: 1 is perfect prediction\n",
        "print(\"Coefficient of determination: %f\" %  r2_score(data_y_test, preds))\n",
        "r2_pcr = r2_score(data_y_test, preds)"
      ],
      "metadata": {
        "colab": {
          "base_uri": "https://localhost:8080/"
        },
        "id": "NSW7aOjNTka-",
        "outputId": "43db6398-3d61-4bbd-a18a-250b7f07b33a"
      },
      "execution_count": null,
      "outputs": [
        {
          "output_type": "stream",
          "name": "stdout",
          "text": [
            "Mean squared error: 0.003479\n",
            "Coefficient of determination: 0.938141\n"
          ]
        }
      ]
    },
    {
      "cell_type": "code",
      "source": [
        "dict_c = {\n",
        "   'Linear Regression':[score_plr,r2_ordinary], \n",
        "   'Lasso Regression':[score_plrl,r2_lasso],\n",
        "   'Ridge Regression':[score_plrr,r2_ridge],\n",
        "   'Cross_Validation Regression': [lr_score_test,r2_crosslinear], \n",
        "   'Cross_Validation Lasso_Regression':[lasso_score_test,r2_crosslasso],\n",
        "   'Cross_Validation Ridge_Regression':[ridge_score_test,r2_crossridge],\n",
        "   'Principal Component Regression':[pcr_score_test,r2_pcr],\n",
        "   'DecisionTreeRegressor_Depth2':[decision_score_test,r2_depth2],\n",
        "   'DecisionTreeRegressor_Depth5':[decision_score_test_2,r2_depth3],\n",
        "   'RandomForestRegressor':[rn_score_test,r2_rn],\n",
        "   'RandomForestRegressor_Hyperparameter Tuning':[rn_score_test_hy,r2_hy]\n",
        "\n",
        "}"
      ],
      "metadata": {
        "id": "gTO6LL-0wPCx"
      },
      "execution_count": null,
      "outputs": []
    },
    {
      "cell_type": "code",
      "source": [
        "df_com = pd.DataFrame.from_dict(dict_c, orient ='index')"
      ],
      "metadata": {
        "id": "audma6H2xbZH"
      },
      "execution_count": null,
      "outputs": []
    },
    {
      "cell_type": "code",
      "source": [
        "df_com.columns =['RMSE','R2']"
      ],
      "metadata": {
        "id": "qniQICh9xi62"
      },
      "execution_count": null,
      "outputs": []
    },
    {
      "cell_type": "code",
      "source": [
        "data_train.shape"
      ],
      "metadata": {
        "colab": {
          "base_uri": "https://localhost:8080/"
        },
        "id": "lSC17y6nQOfg",
        "outputId": "e1b916a1-fa18-4eed-d794-40570183ff1c"
      },
      "execution_count": null,
      "outputs": [
        {
          "output_type": "execute_result",
          "data": {
            "text/plain": [
              "(1744, 4)"
            ]
          },
          "metadata": {},
          "execution_count": 99
        }
      ]
    },
    {
      "cell_type": "code",
      "source": [
        "import numpy as np\n",
        "from sklearn.tree import DecisionTreeRegressor\n",
        "import matplotlib.pyplot as plt\n",
        "\n",
        "# Create a random dataset\n",
        "\n",
        "X = data_train \n",
        "y = data_y_train\n",
        "\n",
        "\n",
        "# Fit regression model\n",
        "regr_1 = DecisionTreeRegressor(max_depth=2)\n",
        "regr_2 = DecisionTreeRegressor(max_depth=3)\n",
        "regr_1.fit(X, y)\n",
        "regr_2.fit(X, y)\n",
        "\n",
        "# Predict\n",
        "X_test = data_test\n",
        "y_1 = regr_1.predict(X_test)\n",
        "y_2 = regr_2.predict(X_test)\n",
        "decision_score_test = mean_squared_error(data_y_test, y_1)\n",
        "decision_score_test_2 = mean_squared_error(data_y_test, y_2)\n",
        "r2_depth2= r2_score(data_y_test, y_1)\n",
        "r2_depth3 = r2_score(data_y_test, y_2)\n",
        "decision_score_test,decision_score_test_2,r2_score(data_y_test, y_1),r2_score(data_y_test, y_2)"
      ],
      "metadata": {
        "colab": {
          "base_uri": "https://localhost:8080/"
        },
        "id": "9a1sQdMQO72B",
        "outputId": "88e644c9-8cff-41e0-82c9-5d34565b9e0b"
      },
      "execution_count": null,
      "outputs": [
        {
          "output_type": "execute_result",
          "data": {
            "text/plain": [
              "(0.0025468912215970982,\n",
              " 4.2832254590588777e-05,\n",
              " 0.9547177512680807,\n",
              " 0.9992384673559385)"
            ]
          },
          "metadata": {},
          "execution_count": 324
        }
      ]
    },
    {
      "cell_type": "code",
      "source": [
        "df_com"
      ],
      "metadata": {
        "colab": {
          "base_uri": "https://localhost:8080/",
          "height": 394
        },
        "id": "AKvwdh3geG03",
        "outputId": "fa8d50b9-7100-452b-83e9-8bb48a7703aa"
      },
      "execution_count": null,
      "outputs": [
        {
          "output_type": "execute_result",
          "data": {
            "text/plain": [
              "                                                 RMSE        R2\n",
              "Linear Regression                            0.001618  0.971232\n",
              "Lasso Regression                             0.001622  0.971159\n",
              "Ridge Regression                             0.001618  0.971237\n",
              "Cross_Validation Regression                  0.003331  0.940773\n",
              "Cross_Validation Lasso_Regression            0.003417  0.939254\n",
              "Cross_Validation Ridge_Regression            0.003332  0.940755\n",
              "Principal Component Regression               0.003479  0.938141\n",
              "DecisionTreeRegressor_Depth2                 0.002547  0.954718\n",
              "DecisionTreeRegressor_Depth5                 0.000043  0.999238\n",
              "RandomForestRegressor                        0.002547  0.999239\n",
              "RandomForestRegressor_Hyperparameter Tuning  0.000012  0.999795"
            ],
            "text/html": [
              "\n",
              "  <div id=\"df-d33b3d45-2466-4081-9074-d32764a7f323\">\n",
              "    <div class=\"colab-df-container\">\n",
              "      <div>\n",
              "<style scoped>\n",
              "    .dataframe tbody tr th:only-of-type {\n",
              "        vertical-align: middle;\n",
              "    }\n",
              "\n",
              "    .dataframe tbody tr th {\n",
              "        vertical-align: top;\n",
              "    }\n",
              "\n",
              "    .dataframe thead th {\n",
              "        text-align: right;\n",
              "    }\n",
              "</style>\n",
              "<table border=\"1\" class=\"dataframe\">\n",
              "  <thead>\n",
              "    <tr style=\"text-align: right;\">\n",
              "      <th></th>\n",
              "      <th>RMSE</th>\n",
              "      <th>R2</th>\n",
              "    </tr>\n",
              "  </thead>\n",
              "  <tbody>\n",
              "    <tr>\n",
              "      <th>Linear Regression</th>\n",
              "      <td>0.001618</td>\n",
              "      <td>0.971232</td>\n",
              "    </tr>\n",
              "    <tr>\n",
              "      <th>Lasso Regression</th>\n",
              "      <td>0.001622</td>\n",
              "      <td>0.971159</td>\n",
              "    </tr>\n",
              "    <tr>\n",
              "      <th>Ridge Regression</th>\n",
              "      <td>0.001618</td>\n",
              "      <td>0.971237</td>\n",
              "    </tr>\n",
              "    <tr>\n",
              "      <th>Cross_Validation Regression</th>\n",
              "      <td>0.003331</td>\n",
              "      <td>0.940773</td>\n",
              "    </tr>\n",
              "    <tr>\n",
              "      <th>Cross_Validation Lasso_Regression</th>\n",
              "      <td>0.003417</td>\n",
              "      <td>0.939254</td>\n",
              "    </tr>\n",
              "    <tr>\n",
              "      <th>Cross_Validation Ridge_Regression</th>\n",
              "      <td>0.003332</td>\n",
              "      <td>0.940755</td>\n",
              "    </tr>\n",
              "    <tr>\n",
              "      <th>Principal Component Regression</th>\n",
              "      <td>0.003479</td>\n",
              "      <td>0.938141</td>\n",
              "    </tr>\n",
              "    <tr>\n",
              "      <th>DecisionTreeRegressor_Depth2</th>\n",
              "      <td>0.002547</td>\n",
              "      <td>0.954718</td>\n",
              "    </tr>\n",
              "    <tr>\n",
              "      <th>DecisionTreeRegressor_Depth5</th>\n",
              "      <td>0.000043</td>\n",
              "      <td>0.999238</td>\n",
              "    </tr>\n",
              "    <tr>\n",
              "      <th>RandomForestRegressor</th>\n",
              "      <td>0.002547</td>\n",
              "      <td>0.999239</td>\n",
              "    </tr>\n",
              "    <tr>\n",
              "      <th>RandomForestRegressor_Hyperparameter Tuning</th>\n",
              "      <td>0.000012</td>\n",
              "      <td>0.999795</td>\n",
              "    </tr>\n",
              "  </tbody>\n",
              "</table>\n",
              "</div>\n",
              "      <button class=\"colab-df-convert\" onclick=\"convertToInteractive('df-d33b3d45-2466-4081-9074-d32764a7f323')\"\n",
              "              title=\"Convert this dataframe to an interactive table.\"\n",
              "              style=\"display:none;\">\n",
              "        \n",
              "  <svg xmlns=\"http://www.w3.org/2000/svg\" height=\"24px\"viewBox=\"0 0 24 24\"\n",
              "       width=\"24px\">\n",
              "    <path d=\"M0 0h24v24H0V0z\" fill=\"none\"/>\n",
              "    <path d=\"M18.56 5.44l.94 2.06.94-2.06 2.06-.94-2.06-.94-.94-2.06-.94 2.06-2.06.94zm-11 1L8.5 8.5l.94-2.06 2.06-.94-2.06-.94L8.5 2.5l-.94 2.06-2.06.94zm10 10l.94 2.06.94-2.06 2.06-.94-2.06-.94-.94-2.06-.94 2.06-2.06.94z\"/><path d=\"M17.41 7.96l-1.37-1.37c-.4-.4-.92-.59-1.43-.59-.52 0-1.04.2-1.43.59L10.3 9.45l-7.72 7.72c-.78.78-.78 2.05 0 2.83L4 21.41c.39.39.9.59 1.41.59.51 0 1.02-.2 1.41-.59l7.78-7.78 2.81-2.81c.8-.78.8-2.07 0-2.86zM5.41 20L4 18.59l7.72-7.72 1.47 1.35L5.41 20z\"/>\n",
              "  </svg>\n",
              "      </button>\n",
              "      \n",
              "  <style>\n",
              "    .colab-df-container {\n",
              "      display:flex;\n",
              "      flex-wrap:wrap;\n",
              "      gap: 12px;\n",
              "    }\n",
              "\n",
              "    .colab-df-convert {\n",
              "      background-color: #E8F0FE;\n",
              "      border: none;\n",
              "      border-radius: 50%;\n",
              "      cursor: pointer;\n",
              "      display: none;\n",
              "      fill: #1967D2;\n",
              "      height: 32px;\n",
              "      padding: 0 0 0 0;\n",
              "      width: 32px;\n",
              "    }\n",
              "\n",
              "    .colab-df-convert:hover {\n",
              "      background-color: #E2EBFA;\n",
              "      box-shadow: 0px 1px 2px rgba(60, 64, 67, 0.3), 0px 1px 3px 1px rgba(60, 64, 67, 0.15);\n",
              "      fill: #174EA6;\n",
              "    }\n",
              "\n",
              "    [theme=dark] .colab-df-convert {\n",
              "      background-color: #3B4455;\n",
              "      fill: #D2E3FC;\n",
              "    }\n",
              "\n",
              "    [theme=dark] .colab-df-convert:hover {\n",
              "      background-color: #434B5C;\n",
              "      box-shadow: 0px 1px 3px 1px rgba(0, 0, 0, 0.15);\n",
              "      filter: drop-shadow(0px 1px 2px rgba(0, 0, 0, 0.3));\n",
              "      fill: #FFFFFF;\n",
              "    }\n",
              "  </style>\n",
              "\n",
              "      <script>\n",
              "        const buttonEl =\n",
              "          document.querySelector('#df-d33b3d45-2466-4081-9074-d32764a7f323 button.colab-df-convert');\n",
              "        buttonEl.style.display =\n",
              "          google.colab.kernel.accessAllowed ? 'block' : 'none';\n",
              "\n",
              "        async function convertToInteractive(key) {\n",
              "          const element = document.querySelector('#df-d33b3d45-2466-4081-9074-d32764a7f323');\n",
              "          const dataTable =\n",
              "            await google.colab.kernel.invokeFunction('convertToInteractive',\n",
              "                                                     [key], {});\n",
              "          if (!dataTable) return;\n",
              "\n",
              "          const docLinkHtml = 'Like what you see? Visit the ' +\n",
              "            '<a target=\"_blank\" href=https://colab.research.google.com/notebooks/data_table.ipynb>data table notebook</a>'\n",
              "            + ' to learn more about interactive tables.';\n",
              "          element.innerHTML = '';\n",
              "          dataTable['output_type'] = 'display_data';\n",
              "          await google.colab.output.renderOutput(dataTable, element);\n",
              "          const docLink = document.createElement('div');\n",
              "          docLink.innerHTML = docLinkHtml;\n",
              "          element.appendChild(docLink);\n",
              "        }\n",
              "      </script>\n",
              "    </div>\n",
              "  </div>\n",
              "  "
            ]
          },
          "metadata": {},
          "execution_count": 365
        }
      ]
    },
    {
      "cell_type": "code",
      "source": [
        "df_com.to_csv(\"result.csv\")"
      ],
      "metadata": {
        "id": "4mbuPsILzIw-"
      },
      "execution_count": null,
      "outputs": []
    },
    {
      "cell_type": "code",
      "source": [
        "X.shape"
      ],
      "metadata": {
        "colab": {
          "base_uri": "https://localhost:8080/"
        },
        "id": "0UEy8HiERnMg",
        "outputId": "c8e840ad-0639-43e4-8685-5d6b26f6f0a4"
      },
      "execution_count": null,
      "outputs": [
        {
          "output_type": "execute_result",
          "data": {
            "text/plain": [
              "(1078, 4)"
            ]
          },
          "metadata": {},
          "execution_count": 326
        }
      ]
    },
    {
      "cell_type": "code",
      "source": [
        "y.shape"
      ],
      "metadata": {
        "colab": {
          "base_uri": "https://localhost:8080/"
        },
        "id": "L8YOyJFORt2Y",
        "outputId": "c080a95d-e7c4-4793-95a5-f9722dd7f9ae"
      },
      "execution_count": null,
      "outputs": [
        {
          "output_type": "execute_result",
          "data": {
            "text/plain": [
              "(1078,)"
            ]
          },
          "metadata": {},
          "execution_count": 327
        }
      ]
    },
    {
      "cell_type": "code",
      "source": [
        "data_train[:,:1].shape"
      ],
      "metadata": {
        "colab": {
          "base_uri": "https://localhost:8080/"
        },
        "id": "9L9yVJ7GR_HQ",
        "outputId": "94206e64-cabe-4886-9480-cb46e468bd6f"
      },
      "execution_count": null,
      "outputs": [
        {
          "output_type": "execute_result",
          "data": {
            "text/plain": [
              "(1078, 1)"
            ]
          },
          "metadata": {},
          "execution_count": 328
        }
      ]
    },
    {
      "cell_type": "code",
      "source": [
        "data_y_train.shape"
      ],
      "metadata": {
        "colab": {
          "base_uri": "https://localhost:8080/"
        },
        "id": "VaN_pmiVSExR",
        "outputId": "98f71a85-0de0-4037-8694-e820f4079e85"
      },
      "execution_count": null,
      "outputs": [
        {
          "output_type": "execute_result",
          "data": {
            "text/plain": [
              "(1078,)"
            ]
          },
          "metadata": {},
          "execution_count": 329
        }
      ]
    },
    {
      "cell_type": "code",
      "source": [
        "from sklearn.ensemble import RandomForestRegressor\n",
        "from sklearn.datasets import make_regression\n",
        "X, y = make_regression(n_features=4, n_informative=2,\n",
        "                       random_state=1, shuffle=False)\n",
        "regr = RandomForestRegressor(max_depth=3, random_state=1)\n",
        "X = data_train \n",
        "y = data_y_train\n",
        "regr.fit(X, y)\n",
        "\n",
        "y1=regr.predict(X_test)\n",
        "\n",
        "rn_score_test = mean_squared_error(data_y_test, y_1)\n",
        "r2_rn= r2_score(data_y_test, y1)\n",
        "rn_score_test,r2_score(data_y_test, y1)"
      ],
      "metadata": {
        "colab": {
          "base_uri": "https://localhost:8080/"
        },
        "id": "SBTng1HlRBgP",
        "outputId": "62d73d94-3977-4fbc-dd92-4628711d3b32"
      },
      "execution_count": null,
      "outputs": [
        {
          "output_type": "execute_result",
          "data": {
            "text/plain": [
              "(0.0025468912215970982, 0.999238798312839)"
            ]
          },
          "metadata": {},
          "execution_count": 330
        }
      ]
    },
    {
      "cell_type": "code",
      "source": [
        "!pip install scikit-optimize"
      ],
      "metadata": {
        "colab": {
          "base_uri": "https://localhost:8080/"
        },
        "id": "N47f_9q2TXTO",
        "outputId": "05e48747-37f3-46ba-bb9b-4b26bb4d0037"
      },
      "execution_count": null,
      "outputs": [
        {
          "output_type": "stream",
          "name": "stdout",
          "text": [
            "Looking in indexes: https://pypi.org/simple, https://us-python.pkg.dev/colab-wheels/public/simple/\n",
            "Requirement already satisfied: scikit-optimize in /usr/local/lib/python3.10/dist-packages (0.9.0)\n",
            "Requirement already satisfied: joblib>=0.11 in /usr/local/lib/python3.10/dist-packages (from scikit-optimize) (1.2.0)\n",
            "Requirement already satisfied: pyaml>=16.9 in /usr/local/lib/python3.10/dist-packages (from scikit-optimize) (21.10.1)\n",
            "Requirement already satisfied: numpy>=1.13.3 in /usr/local/lib/python3.10/dist-packages (from scikit-optimize) (1.22.4)\n",
            "Requirement already satisfied: scipy>=0.19.1 in /usr/local/lib/python3.10/dist-packages (from scikit-optimize) (1.10.1)\n",
            "Requirement already satisfied: scikit-learn>=0.20.0 in /usr/local/lib/python3.10/dist-packages (from scikit-optimize) (1.2.2)\n",
            "Requirement already satisfied: PyYAML in /usr/local/lib/python3.10/dist-packages (from pyaml>=16.9->scikit-optimize) (6.0)\n",
            "Requirement already satisfied: threadpoolctl>=2.0.0 in /usr/local/lib/python3.10/dist-packages (from scikit-learn>=0.20.0->scikit-optimize) (3.1.0)\n"
          ]
        }
      ]
    },
    {
      "cell_type": "code",
      "source": [
        "from sklearn.ensemble import RandomForestRegressor\n",
        "from skopt import BayesSearchCV\n",
        "from skopt.space import Real, Integer"
      ],
      "metadata": {
        "id": "kFLt9p4BSZBG"
      },
      "execution_count": null,
      "outputs": []
    },
    {
      "cell_type": "code",
      "source": [
        "param_dist = {\n",
        "    'n_estimators': Integer(1, 500),\n",
        "    'max_depth': Integer(1, 50),\n",
        "    'min_samples_split': Integer(2, 10),\n",
        "    'min_samples_leaf': Integer(1, 5),\n",
        "    'max_features': Real(0.1, 1.0),\n",
        "    'bootstrap': [True, False]\n",
        "}"
      ],
      "metadata": {
        "id": "c6-jJXasTd4U"
      },
      "execution_count": null,
      "outputs": []
    },
    {
      "cell_type": "code",
      "source": [
        "rf = RandomForestRegressor()"
      ],
      "metadata": {
        "id": "w2Nidbx3TjJV"
      },
      "execution_count": null,
      "outputs": []
    },
    {
      "cell_type": "code",
      "source": [
        "bayes_search = BayesSearchCV(rf, param_dist, n_iter=10, cv=5, n_jobs=-1, random_state=42)"
      ],
      "metadata": {
        "id": "De0m5beITt1H"
      },
      "execution_count": null,
      "outputs": []
    },
    {
      "cell_type": "code",
      "source": [
        "X = data_train \n",
        "y = data_y_train"
      ],
      "metadata": {
        "id": "CgPr8QYzT731"
      },
      "execution_count": null,
      "outputs": []
    },
    {
      "cell_type": "code",
      "source": [
        "bayes_search.fit(X, y)"
      ],
      "metadata": {
        "colab": {
          "base_uri": "https://localhost:8080/",
          "height": 117
        },
        "id": "yX5gV1RVTv7H",
        "outputId": "330b6bc4-55d1-464a-cda1-f790cb6a0e32"
      },
      "execution_count": null,
      "outputs": [
        {
          "output_type": "execute_result",
          "data": {
            "text/plain": [
              "BayesSearchCV(cv=5, estimator=RandomForestRegressor(), n_iter=10, n_jobs=-1,\n",
              "              random_state=42,\n",
              "              search_spaces={'bootstrap': [True, False],\n",
              "                             'max_depth': Integer(low=1, high=50, prior='uniform', transform='normalize'),\n",
              "                             'max_features': Real(low=0.1, high=1.0, prior='uniform', transform='normalize'),\n",
              "                             'min_samples_leaf': Integer(low=1, high=5, prior='uniform', transform='normalize'),\n",
              "                             'min_samples_split': Integer(low=2, high=10, prior='uniform', transform='normalize'),\n",
              "                             'n_estimators': Integer(low=1, high=500, prior='uniform', transform='normalize')})"
            ],
            "text/html": [
              "<style>#sk-container-id-7 {color: black;background-color: white;}#sk-container-id-7 pre{padding: 0;}#sk-container-id-7 div.sk-toggleable {background-color: white;}#sk-container-id-7 label.sk-toggleable__label {cursor: pointer;display: block;width: 100%;margin-bottom: 0;padding: 0.3em;box-sizing: border-box;text-align: center;}#sk-container-id-7 label.sk-toggleable__label-arrow:before {content: \"▸\";float: left;margin-right: 0.25em;color: #696969;}#sk-container-id-7 label.sk-toggleable__label-arrow:hover:before {color: black;}#sk-container-id-7 div.sk-estimator:hover label.sk-toggleable__label-arrow:before {color: black;}#sk-container-id-7 div.sk-toggleable__content {max-height: 0;max-width: 0;overflow: hidden;text-align: left;background-color: #f0f8ff;}#sk-container-id-7 div.sk-toggleable__content pre {margin: 0.2em;color: black;border-radius: 0.25em;background-color: #f0f8ff;}#sk-container-id-7 input.sk-toggleable__control:checked~div.sk-toggleable__content {max-height: 200px;max-width: 100%;overflow: auto;}#sk-container-id-7 input.sk-toggleable__control:checked~label.sk-toggleable__label-arrow:before {content: \"▾\";}#sk-container-id-7 div.sk-estimator input.sk-toggleable__control:checked~label.sk-toggleable__label {background-color: #d4ebff;}#sk-container-id-7 div.sk-label input.sk-toggleable__control:checked~label.sk-toggleable__label {background-color: #d4ebff;}#sk-container-id-7 input.sk-hidden--visually {border: 0;clip: rect(1px 1px 1px 1px);clip: rect(1px, 1px, 1px, 1px);height: 1px;margin: -1px;overflow: hidden;padding: 0;position: absolute;width: 1px;}#sk-container-id-7 div.sk-estimator {font-family: monospace;background-color: #f0f8ff;border: 1px dotted black;border-radius: 0.25em;box-sizing: border-box;margin-bottom: 0.5em;}#sk-container-id-7 div.sk-estimator:hover {background-color: #d4ebff;}#sk-container-id-7 div.sk-parallel-item::after {content: \"\";width: 100%;border-bottom: 1px solid gray;flex-grow: 1;}#sk-container-id-7 div.sk-label:hover label.sk-toggleable__label {background-color: #d4ebff;}#sk-container-id-7 div.sk-serial::before {content: \"\";position: absolute;border-left: 1px solid gray;box-sizing: border-box;top: 0;bottom: 0;left: 50%;z-index: 0;}#sk-container-id-7 div.sk-serial {display: flex;flex-direction: column;align-items: center;background-color: white;padding-right: 0.2em;padding-left: 0.2em;position: relative;}#sk-container-id-7 div.sk-item {position: relative;z-index: 1;}#sk-container-id-7 div.sk-parallel {display: flex;align-items: stretch;justify-content: center;background-color: white;position: relative;}#sk-container-id-7 div.sk-item::before, #sk-container-id-7 div.sk-parallel-item::before {content: \"\";position: absolute;border-left: 1px solid gray;box-sizing: border-box;top: 0;bottom: 0;left: 50%;z-index: -1;}#sk-container-id-7 div.sk-parallel-item {display: flex;flex-direction: column;z-index: 1;position: relative;background-color: white;}#sk-container-id-7 div.sk-parallel-item:first-child::after {align-self: flex-end;width: 50%;}#sk-container-id-7 div.sk-parallel-item:last-child::after {align-self: flex-start;width: 50%;}#sk-container-id-7 div.sk-parallel-item:only-child::after {width: 0;}#sk-container-id-7 div.sk-dashed-wrapped {border: 1px dashed gray;margin: 0 0.4em 0.5em 0.4em;box-sizing: border-box;padding-bottom: 0.4em;background-color: white;}#sk-container-id-7 div.sk-label label {font-family: monospace;font-weight: bold;display: inline-block;line-height: 1.2em;}#sk-container-id-7 div.sk-label-container {text-align: center;}#sk-container-id-7 div.sk-container {/* jupyter's `normalize.less` sets `[hidden] { display: none; }` but bootstrap.min.css set `[hidden] { display: none !important; }` so we also need the `!important` here to be able to override the default hidden behavior on the sphinx rendered scikit-learn.org. See: https://github.com/scikit-learn/scikit-learn/issues/21755 */display: inline-block !important;position: relative;}#sk-container-id-7 div.sk-text-repr-fallback {display: none;}</style><div id=\"sk-container-id-7\" class=\"sk-top-container\"><div class=\"sk-text-repr-fallback\"><pre>BayesSearchCV(cv=5, estimator=RandomForestRegressor(), n_iter=10, n_jobs=-1,\n",
              "              random_state=42,\n",
              "              search_spaces={&#x27;bootstrap&#x27;: [True, False],\n",
              "                             &#x27;max_depth&#x27;: Integer(low=1, high=50, prior=&#x27;uniform&#x27;, transform=&#x27;normalize&#x27;),\n",
              "                             &#x27;max_features&#x27;: Real(low=0.1, high=1.0, prior=&#x27;uniform&#x27;, transform=&#x27;normalize&#x27;),\n",
              "                             &#x27;min_samples_leaf&#x27;: Integer(low=1, high=5, prior=&#x27;uniform&#x27;, transform=&#x27;normalize&#x27;),\n",
              "                             &#x27;min_samples_split&#x27;: Integer(low=2, high=10, prior=&#x27;uniform&#x27;, transform=&#x27;normalize&#x27;),\n",
              "                             &#x27;n_estimators&#x27;: Integer(low=1, high=500, prior=&#x27;uniform&#x27;, transform=&#x27;normalize&#x27;)})</pre><b>In a Jupyter environment, please rerun this cell to show the HTML representation or trust the notebook. <br />On GitHub, the HTML representation is unable to render, please try loading this page with nbviewer.org.</b></div><div class=\"sk-container\" hidden><div class=\"sk-item sk-dashed-wrapped\"><div class=\"sk-label-container\"><div class=\"sk-label sk-toggleable\"><input class=\"sk-toggleable__control sk-hidden--visually\" id=\"sk-estimator-id-9\" type=\"checkbox\" ><label for=\"sk-estimator-id-9\" class=\"sk-toggleable__label sk-toggleable__label-arrow\">BayesSearchCV</label><div class=\"sk-toggleable__content\"><pre>BayesSearchCV(cv=5, estimator=RandomForestRegressor(), n_iter=10, n_jobs=-1,\n",
              "              random_state=42,\n",
              "              search_spaces={&#x27;bootstrap&#x27;: [True, False],\n",
              "                             &#x27;max_depth&#x27;: Integer(low=1, high=50, prior=&#x27;uniform&#x27;, transform=&#x27;normalize&#x27;),\n",
              "                             &#x27;max_features&#x27;: Real(low=0.1, high=1.0, prior=&#x27;uniform&#x27;, transform=&#x27;normalize&#x27;),\n",
              "                             &#x27;min_samples_leaf&#x27;: Integer(low=1, high=5, prior=&#x27;uniform&#x27;, transform=&#x27;normalize&#x27;),\n",
              "                             &#x27;min_samples_split&#x27;: Integer(low=2, high=10, prior=&#x27;uniform&#x27;, transform=&#x27;normalize&#x27;),\n",
              "                             &#x27;n_estimators&#x27;: Integer(low=1, high=500, prior=&#x27;uniform&#x27;, transform=&#x27;normalize&#x27;)})</pre></div></div></div><div class=\"sk-parallel\"><div class=\"sk-parallel-item\"><div class=\"sk-item\"><div class=\"sk-label-container\"><div class=\"sk-label sk-toggleable\"><input class=\"sk-toggleable__control sk-hidden--visually\" id=\"sk-estimator-id-10\" type=\"checkbox\" ><label for=\"sk-estimator-id-10\" class=\"sk-toggleable__label sk-toggleable__label-arrow\">estimator: RandomForestRegressor</label><div class=\"sk-toggleable__content\"><pre>RandomForestRegressor()</pre></div></div></div><div class=\"sk-serial\"><div class=\"sk-item\"><div class=\"sk-estimator sk-toggleable\"><input class=\"sk-toggleable__control sk-hidden--visually\" id=\"sk-estimator-id-11\" type=\"checkbox\" ><label for=\"sk-estimator-id-11\" class=\"sk-toggleable__label sk-toggleable__label-arrow\">RandomForestRegressor</label><div class=\"sk-toggleable__content\"><pre>RandomForestRegressor()</pre></div></div></div></div></div></div></div></div></div></div>"
            ]
          },
          "metadata": {},
          "execution_count": 351
        }
      ]
    },
    {
      "cell_type": "code",
      "source": [
        "print(\"Best hyperparameters: \", bayes_search.best_params_)"
      ],
      "metadata": {
        "colab": {
          "base_uri": "https://localhost:8080/"
        },
        "id": "qx3InRCpUFmu",
        "outputId": "59b481b1-8aa9-4159-ddf6-9b391849e8e0"
      },
      "execution_count": null,
      "outputs": [
        {
          "output_type": "stream",
          "name": "stdout",
          "text": [
            "Best hyperparameters:  OrderedDict([('bootstrap', False), ('max_depth', 37), ('max_features', 0.9395811989630505), ('min_samples_leaf', 2), ('min_samples_split', 7), ('n_estimators', 208)])\n"
          ]
        }
      ]
    },
    {
      "cell_type": "code",
      "source": [
        "rf_best = RandomForestRegressor(**bayes_search.best_params_)\n",
        "\n",
        "# Fit the new Random Forest Regressor object on the training data\n",
        "rf_best.fit(X, y)\n",
        "\n",
        "# Evaluate the performance of the new Random Forest Regressor object on the testing data\n",
        "y_pred = rf_best.predict(X_test)"
      ],
      "metadata": {
        "id": "ZeRfpOQUUMY9"
      },
      "execution_count": null,
      "outputs": []
    },
    {
      "cell_type": "code",
      "source": [
        "rn_score_test_hy = mean_squared_error(data_y_test, y_pred)\n",
        "r2_hy = r2_score(data_y_test, y_pred)\n",
        "rn_score_test_hy,r2_score(data_y_test, y_pred)"
      ],
      "metadata": {
        "colab": {
          "base_uri": "https://localhost:8080/"
        },
        "id": "qrKkSNygUYvW",
        "outputId": "9bd6d941-c480-4885-b2b5-9e49c78e9218"
      },
      "execution_count": null,
      "outputs": [
        {
          "output_type": "execute_result",
          "data": {
            "text/plain": [
              "(1.151321636302004e-05, 0.9997953016906911)"
            ]
          },
          "metadata": {},
          "execution_count": 419
        }
      ]
    },
    {
      "cell_type": "code",
      "source": [
        "data_test"
      ],
      "metadata": {
        "colab": {
          "base_uri": "https://localhost:8080/"
        },
        "id": "OiJpCIBHgFcD",
        "outputId": "a20e04a6-d2eb-4560-f87c-157d66300eaf"
      },
      "execution_count": null,
      "outputs": [
        {
          "output_type": "execute_result",
          "data": {
            "text/plain": [
              "array([[1.50000000e+00, 2.00000000e-01, 6.66666667e-02, 4.90510000e+01],\n",
              "       [1.00000000e+00, 2.50000000e-01, 1.00000000e-02, 4.56400000e+00],\n",
              "       [1.20000000e+00, 1.00000000e-01, 1.00000000e-02, 5.01600000e+01],\n",
              "       [1.20000000e+00, 1.00000000e-01, 3.33333333e-02, 1.55830000e+01],\n",
              "       [1.75000000e+00, 1.00000000e-01, 3.33333333e-02, 1.40400000e+00],\n",
              "       [1.20000000e+00, 1.50000000e-01, 3.33333333e-02, 5.01600000e+01],\n",
              "       [1.75000000e+00, 1.00000000e-01, 4.00000000e-02, 4.90510000e+01],\n",
              "       [1.00000000e+00, 2.50000000e-01, 6.66666667e-02, 2.90950000e+01],\n",
              "       [1.75000000e+00, 2.00000000e-01, 1.00000000e-02, 4.27820000e+01],\n",
              "       [2.00000000e+00, 2.00000000e-01, 6.66666667e-02, 5.01600000e+01],\n",
              "       [1.75000000e+00, 2.00000000e-01, 1.33333333e-02, 4.56400000e+00],\n",
              "       [2.00000000e+00, 1.00000000e-01, 2.00000000e-02, 5.01600000e+01],\n",
              "       [1.00000000e+00, 1.00000000e-01, 4.00000000e-02, 2.90950000e+01],\n",
              "       [5.00000000e-01, 1.00000000e-01, 5.00000000e-02, 0.00000000e+00],\n",
              "       [1.20000000e+00, 1.00000000e-01, 5.00000000e-02, 4.56400000e+00],\n",
              "       [8.00000000e-01, 1.50000000e-01, 3.33333333e-02, 1.40400000e+00],\n",
              "       [1.00000000e+00, 1.50000000e-01, 1.33333333e-02, 2.90950000e+01],\n",
              "       [2.00000000e+00, 1.50000000e-01, 1.00000000e-02, 4.90510000e+01],\n",
              "       [8.00000000e-01, 2.00000000e-01, 1.33333333e-02, 1.40400000e+00],\n",
              "       [1.75000000e+00, 2.00000000e-01, 6.66666667e-02, 4.56400000e+00]])"
            ]
          },
          "metadata": {},
          "execution_count": 369
        }
      ]
    },
    {
      "cell_type": "code",
      "source": [
        "data_y_test"
      ],
      "metadata": {
        "colab": {
          "base_uri": "https://localhost:8080/"
        },
        "id": "5xUNb822gkWk",
        "outputId": "960f3ca3-9bd7-43a1-eced-6d264b19ebcc"
      },
      "execution_count": null,
      "outputs": [
        {
          "output_type": "execute_result",
          "data": {
            "text/plain": [
              "array([2.47228123, 2.8875732 , 2.36587005, 2.78905668, 2.9837958 ,\n",
              "       2.36587005, 2.47228123, 2.61520727, 2.55272232, 2.36587005,\n",
              "       2.8875732 , 2.36587005, 2.61520727, 3.01294211, 2.8875732 ,\n",
              "       2.9837958 , 2.61520727, 2.47228123, 2.9837958 , 2.8875732 ])"
            ]
          },
          "metadata": {},
          "execution_count": 370
        }
      ]
    },
    {
      "cell_type": "code",
      "source": [
        "y_pred"
      ],
      "metadata": {
        "colab": {
          "base_uri": "https://localhost:8080/"
        },
        "id": "UmmQo4w8gpOD",
        "outputId": "6e030ba5-1973-468c-e065-6317e1cff52e"
      },
      "execution_count": null,
      "outputs": [
        {
          "output_type": "execute_result",
          "data": {
            "text/plain": [
              "array([2.47197428, 2.88799933, 2.36655217, 2.78905668, 2.98317106,\n",
              "       2.36648396, 2.47159911, 2.61440618, 2.55364357, 2.37927253,\n",
              "       2.89005084, 2.36881977, 2.61367742, 3.00920643, 2.88842547,\n",
              "       2.98385365, 2.61502702, 2.46859777, 2.98385365, 2.88887896])"
            ]
          },
          "metadata": {},
          "execution_count": 371
        }
      ]
    },
    {
      "cell_type": "code",
      "source": [
        "import matplotlib.pyplot as plt\n",
        "\n",
        "# Plot the predicted values against the actual values of the testing data\n",
        "plt.scatter(data_y_test, y_pred)\n",
        "plt.xlabel('CFD Values')\n",
        "plt.ylabel('Predicted Values')\n",
        "plt.title('Random Forest Regressor')\n",
        "plt.show()"
      ],
      "metadata": {
        "colab": {
          "base_uri": "https://localhost:8080/",
          "height": 472
        },
        "id": "aU9v-tJ7e6xH",
        "outputId": "70bd6070-5e27-4bb7-d453-a2b08cf9e96a"
      },
      "execution_count": null,
      "outputs": [
        {
          "output_type": "display_data",
          "data": {
            "text/plain": [
              "<Figure size 640x480 with 1 Axes>"
            ],
            "image/png": "[encoded data removed]"
          },
          "metadata": {}
        }
      ]
    },
    {
      "cell_type": "code",
      "source": [
        "import matplotlib.pyplot as plt\n",
        "import numpy as np\n",
        "\n",
        "# Sort the actual values and predicted values by ascending order of the actual values\n",
        "idx = np.argsort(data_y_test)\n",
        "y_test_sorted = data_y_test[idx]\n",
        "y_pred_sorted = y_pred[idx]\n",
        "\n",
        "# Plot the actual values and predicted values as lines\n",
        "plt.plot(y_test_sorted, label='Actual Values')\n",
        "plt.plot(y_pred_sorted, label='Predicted Values')\n",
        "plt.xlabel('Observations')\n",
        "plt.ylabel('Target Values')\n",
        "plt.title('Random Forest Regressor')\n",
        "plt.legend()\n",
        "plt.show()\n",
        "\n",
        "\n",
        "\n",
        "\n"
      ],
      "metadata": {
        "colab": {
          "base_uri": "https://localhost:8080/",
          "height": 472
        },
        "id": "qzkYk32wfki2",
        "outputId": "5f350871-1755-4b91-eb06-072ad3305966"
      },
      "execution_count": null,
      "outputs": [
        {
          "output_type": "display_data",
          "data": {
            "text/plain": [
              "<Figure size 640x480 with 1 Axes>"
            ],
            "image/png": "[encoded data removed]"
          },
          "metadata": {}
        }
      ]
    },
    {
      "cell_type": "code",
      "source": [
        "df_comp = pd.read_csv('/content/testing_data.csv')"
      ],
      "metadata": {
        "id": "12jwZ177RSDF"
      },
      "execution_count": null,
      "outputs": []
    },
    {
      "cell_type": "code",
      "source": [
        "df_comp= df_comp.to_numpy()"
      ],
      "metadata": {
        "id": "K21Ra_ctRd7m"
      },
      "execution_count": null,
      "outputs": []
    },
    {
      "cell_type": "code",
      "source": [
        "df_comp"
      ],
      "metadata": {
        "colab": {
          "base_uri": "https://localhost:8080/"
        },
        "id": "9zKY3Mj2S22k",
        "outputId": "aae515a1-9415-4b32-daa5-b5506820770c"
      },
      "execution_count": null,
      "outputs": [
        {
          "output_type": "execute_result",
          "data": {
            "text/plain": [
              "array([[1.5000e-01, 1.0000e+00, 2.0000e-02, 0.0000e+00],\n",
              "       [1.5000e-01, 1.0000e+00, 2.0000e-02, 1.4040e+00],\n",
              "       [1.5000e-01, 1.0000e+00, 2.0000e-02, 4.5640e+00],\n",
              "       [1.5000e-01, 1.0000e+00, 2.0000e-02, 1.1132e+01],\n",
              "       [1.5000e-01, 1.0000e+00, 2.0000e-02, 1.5583e+01],\n",
              "       [1.5000e-01, 1.0000e+00, 2.0000e-02, 2.9095e+01],\n",
              "       [1.5000e-01, 1.0000e+00, 2.0000e-02, 4.2782e+01],\n",
              "       [1.5000e-01, 1.0000e+00, 2.0000e-02, 4.9051e+01],\n",
              "       [1.5000e-01, 1.0000e+00, 2.0000e-02, 5.0160e+01],\n",
              "       [2.5000e-01, 1.0000e+00, 2.0000e-02, 0.0000e+00],\n",
              "       [2.5000e-01, 1.0000e+00, 2.0000e-02, 1.4040e+00],\n",
              "       [2.5000e-01, 1.0000e+00, 2.0000e-02, 4.5640e+00],\n",
              "       [2.5000e-01, 1.0000e+00, 2.0000e-02, 1.1132e+01],\n",
              "       [2.5000e-01, 1.0000e+00, 2.0000e-02, 1.5583e+01],\n",
              "       [2.5000e-01, 1.0000e+00, 2.0000e-02, 2.9095e+01],\n",
              "       [2.5000e-01, 1.0000e+00, 2.0000e-02, 4.2782e+01],\n",
              "       [2.5000e-01, 1.0000e+00, 2.0000e-02, 4.9051e+01],\n",
              "       [2.5000e-01, 1.0000e+00, 2.0000e-02, 5.0160e+01],\n",
              "       [2.0000e-01, 1.0000e+00, 2.0000e-02, 0.0000e+00],\n",
              "       [2.0000e-01, 1.0000e+00, 2.0000e-02, 1.4040e+00],\n",
              "       [2.0000e-01, 1.0000e+00, 2.0000e-02, 4.5640e+00],\n",
              "       [2.0000e-01, 1.0000e+00, 2.0000e-02, 1.1132e+01],\n",
              "       [2.0000e-01, 1.0000e+00, 2.0000e-02, 1.5583e+01],\n",
              "       [2.0000e-01, 1.0000e+00, 2.0000e-02, 2.9095e+01],\n",
              "       [2.0000e-01, 1.0000e+00, 2.0000e-02, 4.2782e+01],\n",
              "       [2.0000e-01, 1.0000e+00, 2.0000e-02, 4.9051e+01],\n",
              "       [2.0000e-01, 1.0000e+00, 2.0000e-02, 5.0160e+01]])"
            ]
          },
          "metadata": {},
          "execution_count": 448
        }
      ]
    },
    {
      "cell_type": "code",
      "source": [
        "y_pred_fromcf = rf_best.predict(df_comp)"
      ],
      "metadata": {
        "id": "9cZejlZATFfl"
      },
      "execution_count": null,
      "outputs": []
    },
    {
      "cell_type": "code",
      "source": [
        "y_pred_fromcfd *= (1025*9.81*0.3354)"
      ],
      "metadata": {
        "id": "ynFNNPOgTkt0"
      },
      "execution_count": null,
      "outputs": []
    },
    {
      "cell_type": "code",
      "source": [
        "y_pred_fromcfd"
      ],
      "metadata": {
        "colab": {
          "base_uri": "https://localhost:8080/"
        },
        "id": "x7SEpzZNTLdN",
        "outputId": "0751943d-b618-4fcb-ef41-d42c67727ed3"
      },
      "execution_count": null,
      "outputs": [
        {
          "output_type": "execute_result",
          "data": {
            "text/plain": [
              "array([10153.45803774, 10057.99672235,  9739.25107985,  9216.30712051,\n",
              "        9394.70384955,  8816.18052572,  8607.47437899,  8327.57805332,\n",
              "        7994.58346197, 10153.45803774, 10057.99672235,  9739.25107985,\n",
              "        9216.30712051,  9394.70384955,  8816.18052572,  8607.47437899,\n",
              "        8327.57805332,  7994.58346197, 10153.45803774, 10057.99672235,\n",
              "        9739.25107985,  9216.30712051,  9394.70384955,  8816.18052572,\n",
              "        8607.47437899,  8327.57805332,  7994.58346197])"
            ]
          },
          "metadata": {},
          "execution_count": 451
        }
      ]
    },
    {
      "cell_type": "code",
      "source": [
        "df_cfd = pd.DataFrame(y_pred_fromcfd)"
      ],
      "metadata": {
        "id": "M9qr1DYkTVoW"
      },
      "execution_count": null,
      "outputs": []
    },
    {
      "cell_type": "code",
      "source": [
        "df_cfd"
      ],
      "metadata": {
        "colab": {
          "base_uri": "https://localhost:8080/",
          "height": 896
        },
        "id": "WPDemOJ1T_Qj",
        "outputId": "d97fc436-cb22-404a-99da-542537f42e10"
      },
      "execution_count": null,
      "outputs": [
        {
          "output_type": "execute_result",
          "data": {
            "text/plain": [
              "               0\n",
              "0   10153.458038\n",
              "1   10057.996722\n",
              "2    9739.251080\n",
              "3    9216.307121\n",
              "4    9394.703850\n",
              "5    8816.180526\n",
              "6    8607.474379\n",
              "7    8327.578053\n",
              "8    7994.583462\n",
              "9   10153.458038\n",
              "10  10057.996722\n",
              "11   9739.251080\n",
              "12   9216.307121\n",
              "13   9394.703850\n",
              "14   8816.180526\n",
              "15   8607.474379\n",
              "16   8327.578053\n",
              "17   7994.583462\n",
              "18  10153.458038\n",
              "19  10057.996722\n",
              "20   9739.251080\n",
              "21   9216.307121\n",
              "22   9394.703850\n",
              "23   8816.180526\n",
              "24   8607.474379\n",
              "25   8327.578053\n",
              "26   7994.583462"
            ],
            "text/html": [
              "\n",
              "  <div id=\"df-14844221-c934-45fd-831c-9660f7e34b6d\">\n",
              "    <div class=\"colab-df-container\">\n",
              "      <div>\n",
              "<style scoped>\n",
              "    .dataframe tbody tr th:only-of-type {\n",
              "        vertical-align: middle;\n",
              "    }\n",
              "\n",
              "    .dataframe tbody tr th {\n",
              "        vertical-align: top;\n",
              "    }\n",
              "\n",
              "    .dataframe thead th {\n",
              "        text-align: right;\n",
              "    }\n",
              "</style>\n",
              "<table border=\"1\" class=\"dataframe\">\n",
              "  <thead>\n",
              "    <tr style=\"text-align: right;\">\n",
              "      <th></th>\n",
              "      <th>0</th>\n",
              "    </tr>\n",
              "  </thead>\n",
              "  <tbody>\n",
              "    <tr>\n",
              "      <th>0</th>\n",
              "      <td>10153.458038</td>\n",
              "    </tr>\n",
              "    <tr>\n",
              "      <th>1</th>\n",
              "      <td>10057.996722</td>\n",
              "    </tr>\n",
              "    <tr>\n",
              "      <th>2</th>\n",
              "      <td>9739.251080</td>\n",
              "    </tr>\n",
              "    <tr>\n",
              "      <th>3</th>\n",
              "      <td>9216.307121</td>\n",
              "    </tr>\n",
              "    <tr>\n",
              "      <th>4</th>\n",
              "      <td>9394.703850</td>\n",
              "    </tr>\n",
              "    <tr>\n",
              "      <th>5</th>\n",
              "      <td>8816.180526</td>\n",
              "    </tr>\n",
              "    <tr>\n",
              "      <th>6</th>\n",
              "      <td>8607.474379</td>\n",
              "    </tr>\n",
              "    <tr>\n",
              "      <th>7</th>\n",
              "      <td>8327.578053</td>\n",
              "    </tr>\n",
              "    <tr>\n",
              "      <th>8</th>\n",
              "      <td>7994.583462</td>\n",
              "    </tr>\n",
              "    <tr>\n",
              "      <th>9</th>\n",
              "      <td>10153.458038</td>\n",
              "    </tr>\n",
              "    <tr>\n",
              "      <th>10</th>\n",
              "      <td>10057.996722</td>\n",
              "    </tr>\n",
              "    <tr>\n",
              "      <th>11</th>\n",
              "      <td>9739.251080</td>\n",
              "    </tr>\n",
              "    <tr>\n",
              "      <th>12</th>\n",
              "      <td>9216.307121</td>\n",
              "    </tr>\n",
              "    <tr>\n",
              "      <th>13</th>\n",
              "      <td>9394.703850</td>\n",
              "    </tr>\n",
              "    <tr>\n",
              "      <th>14</th>\n",
              "      <td>8816.180526</td>\n",
              "    </tr>\n",
              "    <tr>\n",
              "      <th>15</th>\n",
              "      <td>8607.474379</td>\n",
              "    </tr>\n",
              "    <tr>\n",
              "      <th>16</th>\n",
              "      <td>8327.578053</td>\n",
              "    </tr>\n",
              "    <tr>\n",
              "      <th>17</th>\n",
              "      <td>7994.583462</td>\n",
              "    </tr>\n",
              "    <tr>\n",
              "      <th>18</th>\n",
              "      <td>10153.458038</td>\n",
              "    </tr>\n",
              "    <tr>\n",
              "      <th>19</th>\n",
              "      <td>10057.996722</td>\n",
              "    </tr>\n",
              "    <tr>\n",
              "      <th>20</th>\n",
              "      <td>9739.251080</td>\n",
              "    </tr>\n",
              "    <tr>\n",
              "      <th>21</th>\n",
              "      <td>9216.307121</td>\n",
              "    </tr>\n",
              "    <tr>\n",
              "      <th>22</th>\n",
              "      <td>9394.703850</td>\n",
              "    </tr>\n",
              "    <tr>\n",
              "      <th>23</th>\n",
              "      <td>8816.180526</td>\n",
              "    </tr>\n",
              "    <tr>\n",
              "      <th>24</th>\n",
              "      <td>8607.474379</td>\n",
              "    </tr>\n",
              "    <tr>\n",
              "      <th>25</th>\n",
              "      <td>8327.578053</td>\n",
              "    </tr>\n",
              "    <tr>\n",
              "      <th>26</th>\n",
              "      <td>7994.583462</td>\n",
              "    </tr>\n",
              "  </tbody>\n",
              "</table>\n",
              "</div>\n",
              "      <button class=\"colab-df-convert\" onclick=\"convertToInteractive('df-14844221-c934-45fd-831c-9660f7e34b6d')\"\n",
              "              title=\"Convert this dataframe to an interactive table.\"\n",
              "              style=\"display:none;\">\n",
              "        \n",
              "  <svg xmlns=\"http://www.w3.org/2000/svg\" height=\"24px\"viewBox=\"0 0 24 24\"\n",
              "       width=\"24px\">\n",
              "    <path d=\"M0 0h24v24H0V0z\" fill=\"none\"/>\n",
              "    <path d=\"M18.56 5.44l.94 2.06.94-2.06 2.06-.94-2.06-.94-.94-2.06-.94 2.06-2.06.94zm-11 1L8.5 8.5l.94-2.06 2.06-.94-2.06-.94L8.5 2.5l-.94 2.06-2.06.94zm10 10l.94 2.06.94-2.06 2.06-.94-2.06-.94-.94-2.06-.94 2.06-2.06.94z\"/><path d=\"M17.41 7.96l-1.37-1.37c-.4-.4-.92-.59-1.43-.59-.52 0-1.04.2-1.43.59L10.3 9.45l-7.72 7.72c-.78.78-.78 2.05 0 2.83L4 21.41c.39.39.9.59 1.41.59.51 0 1.02-.2 1.41-.59l7.78-7.78 2.81-2.81c.8-.78.8-2.07 0-2.86zM5.41 20L4 18.59l7.72-7.72 1.47 1.35L5.41 20z\"/>\n",
              "  </svg>\n",
              "      </button>\n",
              "      \n",
              "  <style>\n",
              "    .colab-df-container {\n",
              "      display:flex;\n",
              "      flex-wrap:wrap;\n",
              "      gap: 12px;\n",
              "    }\n",
              "\n",
              "    .colab-df-convert {\n",
              "      background-color: #E8F0FE;\n",
              "      border: none;\n",
              "      border-radius: 50%;\n",
              "      cursor: pointer;\n",
              "      display: none;\n",
              "      fill: #1967D2;\n",
              "      height: 32px;\n",
              "      padding: 0 0 0 0;\n",
              "      width: 32px;\n",
              "    }\n",
              "\n",
              "    .colab-df-convert:hover {\n",
              "      background-color: #E2EBFA;\n",
              "      box-shadow: 0px 1px 2px rgba(60, 64, 67, 0.3), 0px 1px 3px 1px rgba(60, 64, 67, 0.15);\n",
              "      fill: #174EA6;\n",
              "    }\n",
              "\n",
              "    [theme=dark] .colab-df-convert {\n",
              "      background-color: #3B4455;\n",
              "      fill: #D2E3FC;\n",
              "    }\n",
              "\n",
              "    [theme=dark] .colab-df-convert:hover {\n",
              "      background-color: #434B5C;\n",
              "      box-shadow: 0px 1px 3px 1px rgba(0, 0, 0, 0.15);\n",
              "      filter: drop-shadow(0px 1px 2px rgba(0, 0, 0, 0.3));\n",
              "      fill: #FFFFFF;\n",
              "    }\n",
              "  </style>\n",
              "\n",
              "      <script>\n",
              "        const buttonEl =\n",
              "          document.querySelector('#df-14844221-c934-45fd-831c-9660f7e34b6d button.colab-df-convert');\n",
              "        buttonEl.style.display =\n",
              "          google.colab.kernel.accessAllowed ? 'block' : 'none';\n",
              "\n",
              "        async function convertToInteractive(key) {\n",
              "          const element = document.querySelector('#df-14844221-c934-45fd-831c-9660f7e34b6d');\n",
              "          const dataTable =\n",
              "            await google.colab.kernel.invokeFunction('convertToInteractive',\n",
              "                                                     [key], {});\n",
              "          if (!dataTable) return;\n",
              "\n",
              "          const docLinkHtml = 'Like what you see? Visit the ' +\n",
              "            '<a target=\"_blank\" href=https://colab.research.google.com/notebooks/data_table.ipynb>data table notebook</a>'\n",
              "            + ' to learn more about interactive tables.';\n",
              "          element.innerHTML = '';\n",
              "          dataTable['output_type'] = 'display_data';\n",
              "          await google.colab.output.renderOutput(dataTable, element);\n",
              "          const docLink = document.createElement('div');\n",
              "          docLink.innerHTML = docLinkHtml;\n",
              "          element.appendChild(docLink);\n",
              "        }\n",
              "      </script>\n",
              "    </div>\n",
              "  </div>\n",
              "  "
            ]
          },
          "metadata": {},
          "execution_count": 453
        }
      ]
    }
  ]
}